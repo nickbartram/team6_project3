{
 "cells": [
  {
   "cell_type": "code",
   "execution_count": 47,
   "metadata": {},
   "outputs": [
    {
     "name": "stdout",
     "output_type": "stream",
     "text": [
      "Requirement already satisfied: pandas in c:\\users\\nbart.desktop-3of7m8n\\anaconda3\\envs\\dev\\lib\\site-packages (2.2.2)\n",
      "Requirement already satisfied: psycopg2 in c:\\users\\nbart.desktop-3of7m8n\\anaconda3\\envs\\dev\\lib\\site-packages (2.9.9)\n",
      "Requirement already satisfied: numpy>=1.22.4 in c:\\users\\nbart.desktop-3of7m8n\\anaconda3\\envs\\dev\\lib\\site-packages (from pandas) (1.26.4)\n",
      "Requirement already satisfied: python-dateutil>=2.8.2 in c:\\users\\nbart.desktop-3of7m8n\\anaconda3\\envs\\dev\\lib\\site-packages (from pandas) (2.9.0.post0)\n",
      "Requirement already satisfied: pytz>=2020.1 in c:\\users\\nbart.desktop-3of7m8n\\anaconda3\\envs\\dev\\lib\\site-packages (from pandas) (2024.1)\n",
      "Requirement already satisfied: tzdata>=2022.7 in c:\\users\\nbart.desktop-3of7m8n\\anaconda3\\envs\\dev\\lib\\site-packages (from pandas) (2023.3)\n",
      "Requirement already satisfied: six>=1.5 in c:\\users\\nbart.desktop-3of7m8n\\anaconda3\\envs\\dev\\lib\\site-packages (from python-dateutil>=2.8.2->pandas) (1.16.0)\n",
      "Requirement already satisfied: plotly in c:\\users\\nbart.desktop-3of7m8n\\anaconda3\\envs\\dev\\lib\\site-packages (5.22.0)\n",
      "Requirement already satisfied: tenacity>=6.2.0 in c:\\users\\nbart.desktop-3of7m8n\\anaconda3\\envs\\dev\\lib\\site-packages (from plotly) (8.2.2)\n",
      "Requirement already satisfied: packaging in c:\\users\\nbart.desktop-3of7m8n\\anaconda3\\envs\\dev\\lib\\site-packages (from plotly) (23.2)\n"
     ]
    }
   ],
   "source": [
    "# import dependencies\n",
    "import pandas as pd\n",
    "from pathlib import Path\n",
    "import sqlite3\n",
    "!pip install pandas psycopg2\n",
    "!pip install plotly\n",
    "import plotly.express as px\n",
    "import psycopg2\n",
    "from sqlalchemy import create_engine\n",
    "from keys import post_username, post_password"
   ]
  },
  {
   "cell_type": "markdown",
   "metadata": {},
   "source": [
    "Our data has been stored in a cloud server managed by Amazon RDS. The dataset was relatively small, so a simple SQL table schema was created in pgAdmin to help with the importing. The next step is to connect to the database."
   ]
  },
  {
   "cell_type": "code",
   "execution_count": 6,
   "metadata": {},
   "outputs": [],
   "source": [
    "# Set up database connection parameters\n",
    "conn = psycopg2.connect(\n",
    "    dbname = \"team6_project3_db\",\n",
    "    user = post_username,\n",
    "    password = post_password,\n",
    "    host = \"database-1.croamw4iqxpi.us-east-2.rds.amazonaws.com\",\n",
    "    port = \"5432\" \n",
    ")\n",
    "\n",
    "query = \"SELECT * FROM climate_impact_agriculture;\""
   ]
  },
  {
   "cell_type": "code",
   "execution_count": 8,
   "metadata": {},
   "outputs": [
    {
     "name": "stderr",
     "output_type": "stream",
     "text": [
      "C:\\Users\\nbart.DESKTOP-3OF7M8N\\AppData\\Local\\Temp\\ipykernel_32228\\500064622.py:2: UserWarning: pandas only supports SQLAlchemy connectable (engine/connection) or database string URI or sqlite3 DBAPI2 connection. Other DBAPI2 objects are not tested. Please consider using SQLAlchemy.\n",
      "  third_climate_df = pd.read_sql_query(query, conn)\n"
     ]
    },
    {
     "data": {
      "text/html": [
       "<div>\n",
       "<style scoped>\n",
       "    .dataframe tbody tr th:only-of-type {\n",
       "        vertical-align: middle;\n",
       "    }\n",
       "\n",
       "    .dataframe tbody tr th {\n",
       "        vertical-align: top;\n",
       "    }\n",
       "\n",
       "    .dataframe thead th {\n",
       "        text-align: right;\n",
       "    }\n",
       "</style>\n",
       "<table border=\"1\" class=\"dataframe\">\n",
       "  <thead>\n",
       "    <tr style=\"text-align: right;\">\n",
       "      <th></th>\n",
       "      <th>year</th>\n",
       "      <th>country</th>\n",
       "      <th>region</th>\n",
       "      <th>crop_type</th>\n",
       "      <th>average_temperature_c</th>\n",
       "      <th>total_precipitation_mm</th>\n",
       "      <th>co2_emissions_mt</th>\n",
       "      <th>crop_yield_mt_per_ha</th>\n",
       "      <th>extreme_weather_events</th>\n",
       "      <th>Irrigation_Access_%</th>\n",
       "      <th>pesticide_use_kg_per_ha</th>\n",
       "      <th>fertilizer_use_kg_per_ha</th>\n",
       "      <th>soil_health_index</th>\n",
       "      <th>adaptation_strategies</th>\n",
       "      <th>economic_impact_million_usd</th>\n",
       "    </tr>\n",
       "  </thead>\n",
       "  <tbody>\n",
       "    <tr>\n",
       "      <th>0</th>\n",
       "      <td>2001</td>\n",
       "      <td>India</td>\n",
       "      <td>West Bengal</td>\n",
       "      <td>Corn</td>\n",
       "      <td>1.55</td>\n",
       "      <td>447.06</td>\n",
       "      <td>15.22</td>\n",
       "      <td>1.737</td>\n",
       "      <td>8</td>\n",
       "      <td>14.54</td>\n",
       "      <td>10.08</td>\n",
       "      <td>14.78</td>\n",
       "      <td>83.25</td>\n",
       "      <td>Water Management</td>\n",
       "      <td>808.13</td>\n",
       "    </tr>\n",
       "    <tr>\n",
       "      <th>1</th>\n",
       "      <td>2024</td>\n",
       "      <td>China</td>\n",
       "      <td>North</td>\n",
       "      <td>Corn</td>\n",
       "      <td>3.23</td>\n",
       "      <td>2913.57</td>\n",
       "      <td>29.82</td>\n",
       "      <td>1.737</td>\n",
       "      <td>8</td>\n",
       "      <td>11.05</td>\n",
       "      <td>33.06</td>\n",
       "      <td>23.25</td>\n",
       "      <td>54.02</td>\n",
       "      <td>Crop Rotation</td>\n",
       "      <td>616.22</td>\n",
       "    </tr>\n",
       "    <tr>\n",
       "      <th>2</th>\n",
       "      <td>2001</td>\n",
       "      <td>France</td>\n",
       "      <td>Ile-de-France</td>\n",
       "      <td>Wheat</td>\n",
       "      <td>21.11</td>\n",
       "      <td>1301.74</td>\n",
       "      <td>25.75</td>\n",
       "      <td>1.719</td>\n",
       "      <td>5</td>\n",
       "      <td>84.42</td>\n",
       "      <td>27.41</td>\n",
       "      <td>65.53</td>\n",
       "      <td>67.78</td>\n",
       "      <td>Water Management</td>\n",
       "      <td>796.96</td>\n",
       "    </tr>\n",
       "    <tr>\n",
       "      <th>3</th>\n",
       "      <td>2001</td>\n",
       "      <td>Canada</td>\n",
       "      <td>Prairies</td>\n",
       "      <td>Coffee</td>\n",
       "      <td>27.85</td>\n",
       "      <td>1154.36</td>\n",
       "      <td>13.91</td>\n",
       "      <td>3.890</td>\n",
       "      <td>5</td>\n",
       "      <td>94.06</td>\n",
       "      <td>14.38</td>\n",
       "      <td>87.58</td>\n",
       "      <td>91.39</td>\n",
       "      <td>No Adaptation</td>\n",
       "      <td>790.32</td>\n",
       "    </tr>\n",
       "    <tr>\n",
       "      <th>4</th>\n",
       "      <td>1998</td>\n",
       "      <td>India</td>\n",
       "      <td>Tamil Nadu</td>\n",
       "      <td>Sugarcane</td>\n",
       "      <td>2.19</td>\n",
       "      <td>1627.48</td>\n",
       "      <td>11.81</td>\n",
       "      <td>1.080</td>\n",
       "      <td>9</td>\n",
       "      <td>95.75</td>\n",
       "      <td>44.35</td>\n",
       "      <td>88.08</td>\n",
       "      <td>49.61</td>\n",
       "      <td>Crop Rotation</td>\n",
       "      <td>401.72</td>\n",
       "    </tr>\n",
       "  </tbody>\n",
       "</table>\n",
       "</div>"
      ],
      "text/plain": [
       "   year country         region  crop_type  average_temperature_c  \\\n",
       "0  2001   India    West Bengal       Corn                   1.55   \n",
       "1  2024   China          North       Corn                   3.23   \n",
       "2  2001  France  Ile-de-France      Wheat                  21.11   \n",
       "3  2001  Canada       Prairies     Coffee                  27.85   \n",
       "4  1998   India     Tamil Nadu  Sugarcane                   2.19   \n",
       "\n",
       "   total_precipitation_mm  co2_emissions_mt  crop_yield_mt_per_ha  \\\n",
       "0                  447.06             15.22                 1.737   \n",
       "1                 2913.57             29.82                 1.737   \n",
       "2                 1301.74             25.75                 1.719   \n",
       "3                 1154.36             13.91                 3.890   \n",
       "4                 1627.48             11.81                 1.080   \n",
       "\n",
       "   extreme_weather_events  Irrigation_Access_%  pesticide_use_kg_per_ha  \\\n",
       "0                       8                14.54                    10.08   \n",
       "1                       8                11.05                    33.06   \n",
       "2                       5                84.42                    27.41   \n",
       "3                       5                94.06                    14.38   \n",
       "4                       9                95.75                    44.35   \n",
       "\n",
       "   fertilizer_use_kg_per_ha  soil_health_index adaptation_strategies  \\\n",
       "0                     14.78              83.25      Water Management   \n",
       "1                     23.25              54.02         Crop Rotation   \n",
       "2                     65.53              67.78      Water Management   \n",
       "3                     87.58              91.39         No Adaptation   \n",
       "4                     88.08              49.61         Crop Rotation   \n",
       "\n",
       "   economic_impact_million_usd  \n",
       "0                       808.13  \n",
       "1                       616.22  \n",
       "2                       796.96  \n",
       "3                       790.32  \n",
       "4                       401.72  "
      ]
     },
     "execution_count": 8,
     "metadata": {},
     "output_type": "execute_result"
    }
   ],
   "source": [
    "# Create the pandas database\n",
    "third_climate_df = pd.read_sql_query(query, conn)\n",
    "third_climate_df.head()"
   ]
  },
  {
   "cell_type": "markdown",
   "metadata": {},
   "source": [
    "Now we've connected to the database and created a pandas DataFrame with the data. Our next step investigate and transform the data. While storing the database and loading the database the column headers have been changed to lowercase. We will change the columns back to their original names to help avoid confusion (some queries have already been done elsewhere using old column names)."
   ]
  },
  {
   "cell_type": "code",
   "execution_count": 9,
   "metadata": {},
   "outputs": [
    {
     "data": {
      "text/html": [
       "<div>\n",
       "<style scoped>\n",
       "    .dataframe tbody tr th:only-of-type {\n",
       "        vertical-align: middle;\n",
       "    }\n",
       "\n",
       "    .dataframe tbody tr th {\n",
       "        vertical-align: top;\n",
       "    }\n",
       "\n",
       "    .dataframe thead th {\n",
       "        text-align: right;\n",
       "    }\n",
       "</style>\n",
       "<table border=\"1\" class=\"dataframe\">\n",
       "  <thead>\n",
       "    <tr style=\"text-align: right;\">\n",
       "      <th></th>\n",
       "      <th>Year</th>\n",
       "      <th>Country</th>\n",
       "      <th>Region</th>\n",
       "      <th>Crop_Type</th>\n",
       "      <th>Average_Temperature_C</th>\n",
       "      <th>Total_Precipitation_mm</th>\n",
       "      <th>CO2_Emissions_MT</th>\n",
       "      <th>Crop_Yield_MT_per_HA</th>\n",
       "      <th>Extreme_Weather_Events</th>\n",
       "      <th>Irrigation_Access_%</th>\n",
       "      <th>Pesticide_Use_KG_per_HA</th>\n",
       "      <th>Fertilizer_Use_KG_per_HA</th>\n",
       "      <th>Soil_Health_Index</th>\n",
       "      <th>Adaptation_Strategies</th>\n",
       "      <th>Economic_Impact_Million_USD</th>\n",
       "    </tr>\n",
       "  </thead>\n",
       "  <tbody>\n",
       "    <tr>\n",
       "      <th>0</th>\n",
       "      <td>2001</td>\n",
       "      <td>India</td>\n",
       "      <td>West Bengal</td>\n",
       "      <td>Corn</td>\n",
       "      <td>1.55</td>\n",
       "      <td>447.06</td>\n",
       "      <td>15.22</td>\n",
       "      <td>1.737</td>\n",
       "      <td>8</td>\n",
       "      <td>14.54</td>\n",
       "      <td>10.08</td>\n",
       "      <td>14.78</td>\n",
       "      <td>83.25</td>\n",
       "      <td>Water Management</td>\n",
       "      <td>808.13</td>\n",
       "    </tr>\n",
       "    <tr>\n",
       "      <th>1</th>\n",
       "      <td>2024</td>\n",
       "      <td>China</td>\n",
       "      <td>North</td>\n",
       "      <td>Corn</td>\n",
       "      <td>3.23</td>\n",
       "      <td>2913.57</td>\n",
       "      <td>29.82</td>\n",
       "      <td>1.737</td>\n",
       "      <td>8</td>\n",
       "      <td>11.05</td>\n",
       "      <td>33.06</td>\n",
       "      <td>23.25</td>\n",
       "      <td>54.02</td>\n",
       "      <td>Crop Rotation</td>\n",
       "      <td>616.22</td>\n",
       "    </tr>\n",
       "    <tr>\n",
       "      <th>2</th>\n",
       "      <td>2001</td>\n",
       "      <td>France</td>\n",
       "      <td>Ile-de-France</td>\n",
       "      <td>Wheat</td>\n",
       "      <td>21.11</td>\n",
       "      <td>1301.74</td>\n",
       "      <td>25.75</td>\n",
       "      <td>1.719</td>\n",
       "      <td>5</td>\n",
       "      <td>84.42</td>\n",
       "      <td>27.41</td>\n",
       "      <td>65.53</td>\n",
       "      <td>67.78</td>\n",
       "      <td>Water Management</td>\n",
       "      <td>796.96</td>\n",
       "    </tr>\n",
       "    <tr>\n",
       "      <th>3</th>\n",
       "      <td>2001</td>\n",
       "      <td>Canada</td>\n",
       "      <td>Prairies</td>\n",
       "      <td>Coffee</td>\n",
       "      <td>27.85</td>\n",
       "      <td>1154.36</td>\n",
       "      <td>13.91</td>\n",
       "      <td>3.890</td>\n",
       "      <td>5</td>\n",
       "      <td>94.06</td>\n",
       "      <td>14.38</td>\n",
       "      <td>87.58</td>\n",
       "      <td>91.39</td>\n",
       "      <td>No Adaptation</td>\n",
       "      <td>790.32</td>\n",
       "    </tr>\n",
       "    <tr>\n",
       "      <th>4</th>\n",
       "      <td>1998</td>\n",
       "      <td>India</td>\n",
       "      <td>Tamil Nadu</td>\n",
       "      <td>Sugarcane</td>\n",
       "      <td>2.19</td>\n",
       "      <td>1627.48</td>\n",
       "      <td>11.81</td>\n",
       "      <td>1.080</td>\n",
       "      <td>9</td>\n",
       "      <td>95.75</td>\n",
       "      <td>44.35</td>\n",
       "      <td>88.08</td>\n",
       "      <td>49.61</td>\n",
       "      <td>Crop Rotation</td>\n",
       "      <td>401.72</td>\n",
       "    </tr>\n",
       "  </tbody>\n",
       "</table>\n",
       "</div>"
      ],
      "text/plain": [
       "   Year Country         Region  Crop_Type  Average_Temperature_C  \\\n",
       "0  2001   India    West Bengal       Corn                   1.55   \n",
       "1  2024   China          North       Corn                   3.23   \n",
       "2  2001  France  Ile-de-France      Wheat                  21.11   \n",
       "3  2001  Canada       Prairies     Coffee                  27.85   \n",
       "4  1998   India     Tamil Nadu  Sugarcane                   2.19   \n",
       "\n",
       "   Total_Precipitation_mm  CO2_Emissions_MT  Crop_Yield_MT_per_HA  \\\n",
       "0                  447.06             15.22                 1.737   \n",
       "1                 2913.57             29.82                 1.737   \n",
       "2                 1301.74             25.75                 1.719   \n",
       "3                 1154.36             13.91                 3.890   \n",
       "4                 1627.48             11.81                 1.080   \n",
       "\n",
       "   Extreme_Weather_Events  Irrigation_Access_%  Pesticide_Use_KG_per_HA  \\\n",
       "0                       8                14.54                    10.08   \n",
       "1                       8                11.05                    33.06   \n",
       "2                       5                84.42                    27.41   \n",
       "3                       5                94.06                    14.38   \n",
       "4                       9                95.75                    44.35   \n",
       "\n",
       "   Fertilizer_Use_KG_per_HA  Soil_Health_Index Adaptation_Strategies  \\\n",
       "0                     14.78              83.25      Water Management   \n",
       "1                     23.25              54.02         Crop Rotation   \n",
       "2                     65.53              67.78      Water Management   \n",
       "3                     87.58              91.39         No Adaptation   \n",
       "4                     88.08              49.61         Crop Rotation   \n",
       "\n",
       "   Economic_Impact_Million_USD  \n",
       "0                       808.13  \n",
       "1                       616.22  \n",
       "2                       796.96  \n",
       "3                       790.32  \n",
       "4                       401.72  "
      ]
     },
     "execution_count": 9,
     "metadata": {},
     "output_type": "execute_result"
    }
   ],
   "source": [
    "# Rename the headers back to their original state, with capitalization\n",
    "third_climate_df.rename(columns={\n",
    "    'year': 'Year',\n",
    "    'country': 'Country',\n",
    "    'region': 'Region',\n",
    "    'crop_type': 'Crop_Type',\n",
    "    'average_temperature_c': 'Average_Temperature_C',\n",
    "    'total_precipitation_mm': 'Total_Precipitation_mm',\n",
    "    'co2_emissions_mt': 'CO2_Emissions_MT',\n",
    "    'crop_yield_mt_per_ha': 'Crop_Yield_MT_per_HA',\n",
    "    'extreme_weather_events': 'Extreme_Weather_Events',\n",
    "    'pesticide_use_kg_per_ha': 'Pesticide_Use_KG_per_HA',\n",
    "    'fertilizer_use_kg_per_ha': 'Fertilizer_Use_KG_per_HA',\n",
    "    'soil_health_index': 'Soil_Health_Index',\n",
    "    'adaptation_strategies': 'Adaptation_Strategies',\n",
    "    'economic_impact_million_usd': 'Economic_Impact_Million_USD'\n",
    "}, inplace=True)\n",
    "\n",
    "# Show renamed headers\n",
    "third_climate_df.head()"
   ]
  },
  {
   "cell_type": "markdown",
   "metadata": {},
   "source": [
    "Now that the DataFrame is adequately transformed we can now investigate it to see what we're dealing with."
   ]
  },
  {
   "cell_type": "code",
   "execution_count": 11,
   "metadata": {},
   "outputs": [
    {
     "name": "stdout",
     "output_type": "stream",
     "text": [
      "This data 10 unique countries, and 34 unique regions\n",
      "These are the unique countries: ['India' 'China' 'France' 'Canada' 'USA' 'Argentina' 'Australia' 'Nigeria'\n",
      " 'Russia' 'Brazil']\n",
      "These are the unique regions: ['West Bengal' 'North' 'Ile-de-France' 'Prairies' 'Tamil Nadu' 'Midwest'\n",
      " 'Northeast' 'New South Wales' 'Punjab' 'North West' 'South East'\n",
      " 'Grand Est' 'Northwestern' 'Siberian' 'Northwest' 'Victoria'\n",
      " 'Nouvelle-Aquitaine' 'South' 'Quebec' 'Southeast' 'Ontario' 'East'\n",
      " 'Pampas' 'Western Australia' 'Volga' 'Maharashtra'\n",
      " 'Provence-Alpes-Cote d’Azur' 'West' 'Central' 'North Central' 'Patagonia'\n",
      " 'Queensland' 'South West' 'British Columbia']\n"
     ]
    }
   ],
   "source": [
    "# Create variables for unique countries, regions, and their lengths. \n",
    "unique_regions = third_climate_df['Region'].unique()\n",
    "length_unique_regions = len(third_climate_df['Region'].unique())\n",
    "unique_countries = third_climate_df['Country'].unique()\n",
    "length_unique_countries = len(third_climate_df['Country'].unique())\n",
    "\n",
    "# Print results\n",
    "print(f\"This data {length_unique_countries} unique countries, and {length_unique_regions} unique regions\")\n",
    "print(f\"These are the unique countries: {unique_countries}\")\n",
    "print(f\"These are the unique regions: {unique_regions}\")"
   ]
  },
  {
   "cell_type": "markdown",
   "metadata": {},
   "source": [
    "Let's find out how many regions are represented for each country in the dataset."
   ]
  },
  {
   "cell_type": "code",
   "execution_count": 12,
   "metadata": {},
   "outputs": [
    {
     "data": {
      "text/html": [
       "<div>\n",
       "<style scoped>\n",
       "    .dataframe tbody tr th:only-of-type {\n",
       "        vertical-align: middle;\n",
       "    }\n",
       "\n",
       "    .dataframe tbody tr th {\n",
       "        vertical-align: top;\n",
       "    }\n",
       "\n",
       "    .dataframe thead th {\n",
       "        text-align: right;\n",
       "    }\n",
       "</style>\n",
       "<table border=\"1\" class=\"dataframe\">\n",
       "  <thead>\n",
       "    <tr style=\"text-align: right;\">\n",
       "      <th></th>\n",
       "      <th>Country</th>\n",
       "      <th>Region</th>\n",
       "    </tr>\n",
       "  </thead>\n",
       "  <tbody>\n",
       "    <tr>\n",
       "      <th>0</th>\n",
       "      <td>Argentina</td>\n",
       "      <td>4</td>\n",
       "    </tr>\n",
       "    <tr>\n",
       "      <th>1</th>\n",
       "      <td>Australia</td>\n",
       "      <td>4</td>\n",
       "    </tr>\n",
       "    <tr>\n",
       "      <th>2</th>\n",
       "      <td>Brazil</td>\n",
       "      <td>4</td>\n",
       "    </tr>\n",
       "    <tr>\n",
       "      <th>3</th>\n",
       "      <td>Canada</td>\n",
       "      <td>4</td>\n",
       "    </tr>\n",
       "    <tr>\n",
       "      <th>4</th>\n",
       "      <td>China</td>\n",
       "      <td>4</td>\n",
       "    </tr>\n",
       "    <tr>\n",
       "      <th>5</th>\n",
       "      <td>France</td>\n",
       "      <td>4</td>\n",
       "    </tr>\n",
       "    <tr>\n",
       "      <th>6</th>\n",
       "      <td>India</td>\n",
       "      <td>4</td>\n",
       "    </tr>\n",
       "    <tr>\n",
       "      <th>7</th>\n",
       "      <td>Nigeria</td>\n",
       "      <td>4</td>\n",
       "    </tr>\n",
       "    <tr>\n",
       "      <th>8</th>\n",
       "      <td>Russia</td>\n",
       "      <td>4</td>\n",
       "    </tr>\n",
       "    <tr>\n",
       "      <th>9</th>\n",
       "      <td>USA</td>\n",
       "      <td>4</td>\n",
       "    </tr>\n",
       "  </tbody>\n",
       "</table>\n",
       "</div>"
      ],
      "text/plain": [
       "     Country  Region\n",
       "0  Argentina       4\n",
       "1  Australia       4\n",
       "2     Brazil       4\n",
       "3     Canada       4\n",
       "4      China       4\n",
       "5     France       4\n",
       "6      India       4\n",
       "7    Nigeria       4\n",
       "8     Russia       4\n",
       "9        USA       4"
      ]
     },
     "execution_count": 12,
     "metadata": {},
     "output_type": "execute_result"
    }
   ],
   "source": [
    "# Group the df by Country and count the number of regions for each\n",
    "group_df = third_climate_df.groupby('Country')['Region'].nunique().reset_index()\n",
    "group_df"
   ]
  },
  {
   "cell_type": "code",
   "execution_count": 14,
   "metadata": {},
   "outputs": [
    {
     "data": {
      "text/html": [
       "<div>\n",
       "<style scoped>\n",
       "    .dataframe tbody tr th:only-of-type {\n",
       "        vertical-align: middle;\n",
       "    }\n",
       "\n",
       "    .dataframe tbody tr th {\n",
       "        vertical-align: top;\n",
       "    }\n",
       "\n",
       "    .dataframe thead th {\n",
       "        text-align: right;\n",
       "    }\n",
       "</style>\n",
       "<table border=\"1\" class=\"dataframe\">\n",
       "  <thead>\n",
       "    <tr style=\"text-align: right;\">\n",
       "      <th></th>\n",
       "      <th>Country</th>\n",
       "      <th>Region</th>\n",
       "    </tr>\n",
       "  </thead>\n",
       "  <tbody>\n",
       "    <tr>\n",
       "      <th>0</th>\n",
       "      <td>Argentina</td>\n",
       "      <td>[Northeast, Northwest, Pampas, Patagonia]</td>\n",
       "    </tr>\n",
       "    <tr>\n",
       "      <th>1</th>\n",
       "      <td>Australia</td>\n",
       "      <td>[New South Wales, Victoria, Western Australia, Queensland]</td>\n",
       "    </tr>\n",
       "    <tr>\n",
       "      <th>2</th>\n",
       "      <td>Brazil</td>\n",
       "      <td>[North, Northeast, Southeast, South]</td>\n",
       "    </tr>\n",
       "    <tr>\n",
       "      <th>3</th>\n",
       "      <td>Canada</td>\n",
       "      <td>[Prairies, Quebec, Ontario, British Columbia]</td>\n",
       "    </tr>\n",
       "    <tr>\n",
       "      <th>4</th>\n",
       "      <td>China</td>\n",
       "      <td>[North, East, South, Central]</td>\n",
       "    </tr>\n",
       "    <tr>\n",
       "      <th>5</th>\n",
       "      <td>France</td>\n",
       "      <td>[Ile-de-France, Grand Est, Nouvelle-Aquitaine, Provence-Alpes-Cote d’Azur]</td>\n",
       "    </tr>\n",
       "    <tr>\n",
       "      <th>6</th>\n",
       "      <td>India</td>\n",
       "      <td>[West Bengal, Tamil Nadu, Punjab, Maharashtra]</td>\n",
       "    </tr>\n",
       "    <tr>\n",
       "      <th>7</th>\n",
       "      <td>Nigeria</td>\n",
       "      <td>[North West, South East, North Central, South West]</td>\n",
       "    </tr>\n",
       "    <tr>\n",
       "      <th>8</th>\n",
       "      <td>Russia</td>\n",
       "      <td>[Northwestern, Siberian, Volga, Central]</td>\n",
       "    </tr>\n",
       "    <tr>\n",
       "      <th>9</th>\n",
       "      <td>USA</td>\n",
       "      <td>[Midwest, Northeast, South, West]</td>\n",
       "    </tr>\n",
       "  </tbody>\n",
       "</table>\n",
       "</div>"
      ],
      "text/plain": [
       "     Country  \\\n",
       "0  Argentina   \n",
       "1  Australia   \n",
       "2     Brazil   \n",
       "3     Canada   \n",
       "4      China   \n",
       "5     France   \n",
       "6      India   \n",
       "7    Nigeria   \n",
       "8     Russia   \n",
       "9        USA   \n",
       "\n",
       "                                                                       Region  \n",
       "0                                   [Northeast, Northwest, Pampas, Patagonia]  \n",
       "1                  [New South Wales, Victoria, Western Australia, Queensland]  \n",
       "2                                        [North, Northeast, Southeast, South]  \n",
       "3                               [Prairies, Quebec, Ontario, British Columbia]  \n",
       "4                                               [North, East, South, Central]  \n",
       "5  [Ile-de-France, Grand Est, Nouvelle-Aquitaine, Provence-Alpes-Cote d’Azur]  \n",
       "6                              [West Bengal, Tamil Nadu, Punjab, Maharashtra]  \n",
       "7                         [North West, South East, North Central, South West]  \n",
       "8                                    [Northwestern, Siberian, Volga, Central]  \n",
       "9                                           [Midwest, Northeast, South, West]  "
      ]
     },
     "execution_count": 14,
     "metadata": {},
     "output_type": "execute_result"
    }
   ],
   "source": [
    "# Group by country again, but this time show the regions for each instead of counting them.\n",
    "grouped_df = third_climate_df.groupby(\"Country\")[\"Region\"].unique().reset_index()\n",
    "\n",
    "# Change to column width of the new df to avoid results being truncated.\n",
    "pd.set_option('display.max_colwidth', None)\n",
    "grouped_df"
   ]
  },
  {
   "cell_type": "markdown",
   "metadata": {},
   "source": [
    "Each country has 4 regions, however there are only 34 unique regions (instead of 40). There is some overlap between regions (e.g. 'South' China and 'South' USA). Now let's find out how many crops are in this dataset."
   ]
  },
  {
   "cell_type": "code",
   "execution_count": 15,
   "metadata": {},
   "outputs": [
    {
     "name": "stdout",
     "output_type": "stream",
     "text": [
      "There are 10 unique crops in this dataset. They are: ['Corn' 'Wheat' 'Coffee' 'Sugarcane' 'Fruits' 'Rice' 'Barley' 'Vegetables'\n",
      " 'Soybeans' 'Cotton']\n"
     ]
    }
   ],
   "source": [
    "# Find unique crops\n",
    "unique_crops = third_climate_df['Crop_Type'].unique()\n",
    "length_unique_crops = len(unique_crops)\n",
    "\n",
    "print(f\"There are {length_unique_crops} unique crops in this dataset. They are: {unique_crops}\")"
   ]
  },
  {
   "cell_type": "markdown",
   "metadata": {},
   "source": [
    "We're trying to find a primary key to the data, or at least some more information about what each column represents. It's possible that there is only one crop, per year, per country's region. This would be a unique entry and qualify as a composite key. A new grouped df might help us get a better understanding."
   ]
  },
  {
   "cell_type": "code",
   "execution_count": 41,
   "metadata": {},
   "outputs": [
    {
     "data": {
      "text/html": [
       "<div>\n",
       "<style scoped>\n",
       "    .dataframe tbody tr th:only-of-type {\n",
       "        vertical-align: middle;\n",
       "    }\n",
       "\n",
       "    .dataframe tbody tr th {\n",
       "        vertical-align: top;\n",
       "    }\n",
       "\n",
       "    .dataframe thead th {\n",
       "        text-align: right;\n",
       "    }\n",
       "</style>\n",
       "<table border=\"1\" class=\"dataframe\">\n",
       "  <thead>\n",
       "    <tr style=\"text-align: right;\">\n",
       "      <th></th>\n",
       "      <th></th>\n",
       "      <th>Crop_Type</th>\n",
       "      <th>Barley</th>\n",
       "      <th>Coffee</th>\n",
       "      <th>Corn</th>\n",
       "      <th>Cotton</th>\n",
       "      <th>Fruits</th>\n",
       "      <th>Rice</th>\n",
       "      <th>Soybeans</th>\n",
       "      <th>Sugarcane</th>\n",
       "      <th>Vegetables</th>\n",
       "      <th>Wheat</th>\n",
       "    </tr>\n",
       "    <tr>\n",
       "      <th>Country</th>\n",
       "      <th>Region</th>\n",
       "      <th>Year</th>\n",
       "      <th></th>\n",
       "      <th></th>\n",
       "      <th></th>\n",
       "      <th></th>\n",
       "      <th></th>\n",
       "      <th></th>\n",
       "      <th></th>\n",
       "      <th></th>\n",
       "      <th></th>\n",
       "      <th></th>\n",
       "    </tr>\n",
       "  </thead>\n",
       "  <tbody>\n",
       "    <tr>\n",
       "      <th rowspan=\"5\" valign=\"top\">Argentina</th>\n",
       "      <th rowspan=\"5\" valign=\"top\">Northeast</th>\n",
       "      <th>1990</th>\n",
       "      <td>1</td>\n",
       "      <td>1</td>\n",
       "      <td>3</td>\n",
       "      <td>1</td>\n",
       "      <td>2</td>\n",
       "      <td>1</td>\n",
       "      <td>0</td>\n",
       "      <td>1</td>\n",
       "      <td>1</td>\n",
       "      <td>0</td>\n",
       "    </tr>\n",
       "    <tr>\n",
       "      <th>1991</th>\n",
       "      <td>0</td>\n",
       "      <td>2</td>\n",
       "      <td>1</td>\n",
       "      <td>1</td>\n",
       "      <td>2</td>\n",
       "      <td>3</td>\n",
       "      <td>2</td>\n",
       "      <td>1</td>\n",
       "      <td>2</td>\n",
       "      <td>0</td>\n",
       "    </tr>\n",
       "    <tr>\n",
       "      <th>1992</th>\n",
       "      <td>1</td>\n",
       "      <td>0</td>\n",
       "      <td>1</td>\n",
       "      <td>0</td>\n",
       "      <td>2</td>\n",
       "      <td>1</td>\n",
       "      <td>2</td>\n",
       "      <td>0</td>\n",
       "      <td>0</td>\n",
       "      <td>1</td>\n",
       "    </tr>\n",
       "    <tr>\n",
       "      <th>1993</th>\n",
       "      <td>0</td>\n",
       "      <td>1</td>\n",
       "      <td>0</td>\n",
       "      <td>2</td>\n",
       "      <td>0</td>\n",
       "      <td>0</td>\n",
       "      <td>0</td>\n",
       "      <td>0</td>\n",
       "      <td>0</td>\n",
       "      <td>1</td>\n",
       "    </tr>\n",
       "    <tr>\n",
       "      <th>1994</th>\n",
       "      <td>2</td>\n",
       "      <td>1</td>\n",
       "      <td>0</td>\n",
       "      <td>1</td>\n",
       "      <td>1</td>\n",
       "      <td>0</td>\n",
       "      <td>1</td>\n",
       "      <td>0</td>\n",
       "      <td>1</td>\n",
       "      <td>0</td>\n",
       "    </tr>\n",
       "    <tr>\n",
       "      <th>...</th>\n",
       "      <th>...</th>\n",
       "      <th>...</th>\n",
       "      <td>...</td>\n",
       "      <td>...</td>\n",
       "      <td>...</td>\n",
       "      <td>...</td>\n",
       "      <td>...</td>\n",
       "      <td>...</td>\n",
       "      <td>...</td>\n",
       "      <td>...</td>\n",
       "      <td>...</td>\n",
       "      <td>...</td>\n",
       "    </tr>\n",
       "    <tr>\n",
       "      <th rowspan=\"5\" valign=\"top\">USA</th>\n",
       "      <th rowspan=\"5\" valign=\"top\">West</th>\n",
       "      <th>2020</th>\n",
       "      <td>0</td>\n",
       "      <td>0</td>\n",
       "      <td>2</td>\n",
       "      <td>1</td>\n",
       "      <td>1</td>\n",
       "      <td>0</td>\n",
       "      <td>0</td>\n",
       "      <td>1</td>\n",
       "      <td>0</td>\n",
       "      <td>0</td>\n",
       "    </tr>\n",
       "    <tr>\n",
       "      <th>2021</th>\n",
       "      <td>2</td>\n",
       "      <td>0</td>\n",
       "      <td>1</td>\n",
       "      <td>2</td>\n",
       "      <td>3</td>\n",
       "      <td>1</td>\n",
       "      <td>1</td>\n",
       "      <td>1</td>\n",
       "      <td>2</td>\n",
       "      <td>0</td>\n",
       "    </tr>\n",
       "    <tr>\n",
       "      <th>2022</th>\n",
       "      <td>0</td>\n",
       "      <td>0</td>\n",
       "      <td>0</td>\n",
       "      <td>0</td>\n",
       "      <td>0</td>\n",
       "      <td>2</td>\n",
       "      <td>0</td>\n",
       "      <td>0</td>\n",
       "      <td>0</td>\n",
       "      <td>0</td>\n",
       "    </tr>\n",
       "    <tr>\n",
       "      <th>2023</th>\n",
       "      <td>0</td>\n",
       "      <td>0</td>\n",
       "      <td>2</td>\n",
       "      <td>1</td>\n",
       "      <td>1</td>\n",
       "      <td>2</td>\n",
       "      <td>0</td>\n",
       "      <td>2</td>\n",
       "      <td>1</td>\n",
       "      <td>1</td>\n",
       "    </tr>\n",
       "    <tr>\n",
       "      <th>2024</th>\n",
       "      <td>4</td>\n",
       "      <td>1</td>\n",
       "      <td>1</td>\n",
       "      <td>0</td>\n",
       "      <td>0</td>\n",
       "      <td>1</td>\n",
       "      <td>3</td>\n",
       "      <td>1</td>\n",
       "      <td>0</td>\n",
       "      <td>0</td>\n",
       "    </tr>\n",
       "  </tbody>\n",
       "</table>\n",
       "<p>1398 rows × 10 columns</p>\n",
       "</div>"
      ],
      "text/plain": [
       "Crop_Type                 Barley  Coffee  Corn  Cotton  Fruits  Rice  \\\n",
       "Country   Region    Year                                               \n",
       "Argentina Northeast 1990       1       1     3       1       2     1   \n",
       "                    1991       0       2     1       1       2     3   \n",
       "                    1992       1       0     1       0       2     1   \n",
       "                    1993       0       1     0       2       0     0   \n",
       "                    1994       2       1     0       1       1     0   \n",
       "...                          ...     ...   ...     ...     ...   ...   \n",
       "USA       West      2020       0       0     2       1       1     0   \n",
       "                    2021       2       0     1       2       3     1   \n",
       "                    2022       0       0     0       0       0     2   \n",
       "                    2023       0       0     2       1       1     2   \n",
       "                    2024       4       1     1       0       0     1   \n",
       "\n",
       "Crop_Type                 Soybeans  Sugarcane  Vegetables  Wheat  \n",
       "Country   Region    Year                                          \n",
       "Argentina Northeast 1990         0          1           1      0  \n",
       "                    1991         2          1           2      0  \n",
       "                    1992         2          0           0      1  \n",
       "                    1993         0          0           0      1  \n",
       "                    1994         1          0           1      0  \n",
       "...                            ...        ...         ...    ...  \n",
       "USA       West      2020         0          1           0      0  \n",
       "                    2021         1          1           2      0  \n",
       "                    2022         0          0           0      0  \n",
       "                    2023         0          2           1      1  \n",
       "                    2024         3          1           0      0  \n",
       "\n",
       "[1398 rows x 10 columns]"
      ]
     },
     "execution_count": 41,
     "metadata": {},
     "output_type": "execute_result"
    }
   ],
   "source": [
    "# Break it down by crop type, using size to count the indexes and unstack to reshape the data\n",
    "crop_type_breakdown = third_climate_df.groupby(['Country', 'Region', 'Year', 'Crop_Type']).size().unstack(fill_value=0)\n",
    "crop_type_breakdown"
   ]
  },
  {
   "cell_type": "markdown",
   "metadata": {},
   "source": [
    "This pivot table is heavily trunacted here (it's a large table), however we can see even from this that there are multiple entries for crop per year per region (e.g. Corn appears 3 times in Northeast Argentina in 1990, among other such examples). \n",
    "Therefore this dataset does not have a clear primary or composite key. It's not clear exactly what each row represents, aside from perhaps a log entry of harvests. The metadata does not elaborate on this except to say: \n",
    "\n",
    "\"To assemble this dataset, data was collected from multiple reputable sources, focusing on recent and historical records of temperature, precipitation, and crop yields. The process involved extracting data from agricultural reports, climate monitoring stations, and regional agricultural surveys. Each data point was meticulously reviewed to ensure accuracy and consistency. The dataset was then cleaned and organized to provide a clear and accessible overview of how varying climate conditions influence agricultural productivity across different regions and crop types.\""
   ]
  },
  {
   "cell_type": "markdown",
   "metadata": {},
   "source": [
    "                                                            --- Nick's section begins ----\n",
    "Create a chloropleth animation of average CO2 emissions over time by country."
   ]
  },
  {
   "cell_type": "code",
   "execution_count": 45,
   "metadata": {},
   "outputs": [
    {
     "data": {
      "application/vnd.plotly.v1+json": {
       "config": {
        "plotlyServerURL": "https://plot.ly"
       },
       "data": [
        {
         "coloraxis": "coloraxis",
         "geo": "geo",
         "hovertemplate": "<b>%{hovertext}</b><br><br>Year=1990<br>Country=%{location}<br>CO2_Emissions_MT=%{z}<extra></extra>",
         "hovertext": [
          "Argentina",
          "India",
          "France",
          "Russia",
          "China",
          "Canada",
          "USA",
          "Brazil",
          "Australia",
          "Nigeria"
         ],
         "locationmode": "country names",
         "locations": [
          "Argentina",
          "India",
          "France",
          "Russia",
          "China",
          "Canada",
          "USA",
          "Brazil",
          "Australia",
          "Nigeria"
         ],
         "name": "",
         "type": "choropleth",
         "z": [
          16.1204,
          11.953333333333333,
          17.36916666666667,
          17.05941176470588,
          15.48967741935484,
          12.760370370370369,
          15.04,
          13.542352941176471,
          15.638148148148149,
          12.88576923076923
         ]
        }
       ],
       "frames": [
        {
         "data": [
          {
           "coloraxis": "coloraxis",
           "geo": "geo",
           "hovertemplate": "<b>%{hovertext}</b><br><br>Year=1990<br>Country=%{location}<br>CO2_Emissions_MT=%{z}<extra></extra>",
           "hovertext": [
            "Argentina",
            "India",
            "France",
            "Russia",
            "China",
            "Canada",
            "USA",
            "Brazil",
            "Australia",
            "Nigeria"
           ],
           "locationmode": "country names",
           "locations": [
            "Argentina",
            "India",
            "France",
            "Russia",
            "China",
            "Canada",
            "USA",
            "Brazil",
            "Australia",
            "Nigeria"
           ],
           "name": "",
           "type": "choropleth",
           "z": [
            16.1204,
            11.953333333333333,
            17.36916666666667,
            17.05941176470588,
            15.48967741935484,
            12.760370370370369,
            15.04,
            13.542352941176471,
            15.638148148148149,
            12.88576923076923
           ]
          }
         ],
         "name": "1990"
        },
        {
         "data": [
          {
           "coloraxis": "coloraxis",
           "geo": "geo",
           "hovertemplate": "<b>%{hovertext}</b><br><br>Year=1991<br>Country=%{location}<br>CO2_Emissions_MT=%{z}<extra></extra>",
           "hovertext": [
            "Brazil",
            "Australia",
            "India",
            "China",
            "Argentina",
            "Russia",
            "Canada",
            "France",
            "USA",
            "Nigeria"
           ],
           "locationmode": "country names",
           "locations": [
            "Brazil",
            "Australia",
            "India",
            "China",
            "Argentina",
            "Russia",
            "Canada",
            "France",
            "USA",
            "Nigeria"
           ],
           "name": "",
           "type": "choropleth",
           "z": [
            13.195185185185185,
            13.926153846153845,
            16.972941176470588,
            16.205,
            15.547297297297296,
            14.2225,
            13.16,
            16.549032258064514,
            19.3915625,
            13.710666666666667
           ]
          }
         ],
         "name": "1991"
        },
        {
         "data": [
          {
           "coloraxis": "coloraxis",
           "geo": "geo",
           "hovertemplate": "<b>%{hovertext}</b><br><br>Year=1992<br>Country=%{location}<br>CO2_Emissions_MT=%{z}<extra></extra>",
           "hovertext": [
            "France",
            "Brazil",
            "Australia",
            "India",
            "USA",
            "China",
            "Russia",
            "Nigeria",
            "Canada",
            "Argentina"
           ],
           "locationmode": "country names",
           "locations": [
            "France",
            "Brazil",
            "Australia",
            "India",
            "USA",
            "China",
            "Russia",
            "Nigeria",
            "Canada",
            "Argentina"
           ],
           "name": "",
           "type": "choropleth",
           "z": [
            14.596153846153847,
            15.006923076923076,
            13.959677419354838,
            15.193529411764708,
            11.881,
            13.798800000000002,
            16.033703703703704,
            15.591944444444445,
            16.7424,
            15.325416666666667
           ]
          }
         ],
         "name": "1992"
        },
        {
         "data": [
          {
           "coloraxis": "coloraxis",
           "geo": "geo",
           "hovertemplate": "<b>%{hovertext}</b><br><br>Year=1993<br>Country=%{location}<br>CO2_Emissions_MT=%{z}<extra></extra>",
           "hovertext": [
            "Russia",
            "USA",
            "China",
            "France",
            "Canada",
            "Argentina",
            "Australia",
            "India",
            "Brazil",
            "Nigeria"
           ],
           "locationmode": "country names",
           "locations": [
            "Russia",
            "USA",
            "China",
            "France",
            "Canada",
            "Argentina",
            "Australia",
            "India",
            "Brazil",
            "Nigeria"
           ],
           "name": "",
           "type": "choropleth",
           "z": [
            15.815217391304348,
            12.894193548387097,
            16.221600000000002,
            14.338214285714287,
            16.51086956521739,
            14.518947368421053,
            16.084545454545452,
            15.060588235294116,
            15.52111111111111,
            13.113181818181818
           ]
          }
         ],
         "name": "1993"
        },
        {
         "data": [
          {
           "coloraxis": "coloraxis",
           "geo": "geo",
           "hovertemplate": "<b>%{hovertext}</b><br><br>Year=1994<br>Country=%{location}<br>CO2_Emissions_MT=%{z}<extra></extra>",
           "hovertext": [
            "France",
            "Brazil",
            "Russia",
            "USA",
            "India",
            "Canada",
            "Nigeria",
            "Australia",
            "Argentina",
            "China"
           ],
           "locationmode": "country names",
           "locations": [
            "France",
            "Brazil",
            "Russia",
            "USA",
            "India",
            "Canada",
            "Nigeria",
            "Australia",
            "Argentina",
            "China"
           ],
           "name": "",
           "type": "choropleth",
           "z": [
            16.75722222222222,
            14.004827586206897,
            16.939999999999998,
            17.486,
            16.200476190476188,
            17.165,
            13.903714285714285,
            15.429411764705883,
            16.1804,
            14.6009375
           ]
          }
         ],
         "name": "1994"
        },
        {
         "data": [
          {
           "coloraxis": "coloraxis",
           "geo": "geo",
           "hovertemplate": "<b>%{hovertext}</b><br><br>Year=1995<br>Country=%{location}<br>CO2_Emissions_MT=%{z}<extra></extra>",
           "hovertext": [
            "Brazil",
            "Canada",
            "Nigeria",
            "USA",
            "France",
            "China",
            "Argentina",
            "Australia",
            "India",
            "Russia"
           ],
           "locationmode": "country names",
           "locations": [
            "Brazil",
            "Canada",
            "Nigeria",
            "USA",
            "France",
            "China",
            "Argentina",
            "Australia",
            "India",
            "Russia"
           ],
           "name": "",
           "type": "choropleth",
           "z": [
            15.579062500000001,
            17.825,
            16.074193548387097,
            15.743809523809524,
            18.431764705882355,
            15.8388,
            13.3804,
            17.088076923076922,
            13.303448275862069,
            15.776666666666667
           ]
          }
         ],
         "name": "1995"
        },
        {
         "data": [
          {
           "coloraxis": "coloraxis",
           "geo": "geo",
           "hovertemplate": "<b>%{hovertext}</b><br><br>Year=1996<br>Country=%{location}<br>CO2_Emissions_MT=%{z}<extra></extra>",
           "hovertext": [
            "Brazil",
            "Argentina",
            "Canada",
            "China",
            "Nigeria",
            "USA",
            "France",
            "Russia",
            "Australia",
            "India"
           ],
           "locationmode": "country names",
           "locations": [
            "Brazil",
            "Argentina",
            "Canada",
            "China",
            "Nigeria",
            "USA",
            "France",
            "Russia",
            "Australia",
            "India"
           ],
           "name": "",
           "type": "choropleth",
           "z": [
            12.965806451612902,
            16.834047619047617,
            17.348157894736843,
            15.837142857142856,
            16.80909090909091,
            14.7196,
            14.19,
            16.271875,
            17.50558823529412,
            13.373571428571427
           ]
          }
         ],
         "name": "1996"
        },
        {
         "data": [
          {
           "coloraxis": "coloraxis",
           "geo": "geo",
           "hovertemplate": "<b>%{hovertext}</b><br><br>Year=1997<br>Country=%{location}<br>CO2_Emissions_MT=%{z}<extra></extra>",
           "hovertext": [
            "Brazil",
            "France",
            "Canada",
            "USA",
            "China",
            "India",
            "Australia",
            "Russia",
            "Argentina",
            "Nigeria"
           ],
           "locationmode": "country names",
           "locations": [
            "Brazil",
            "France",
            "Canada",
            "USA",
            "China",
            "India",
            "Australia",
            "Russia",
            "Argentina",
            "Nigeria"
           ],
           "name": "",
           "type": "choropleth",
           "z": [
            16.837500000000002,
            15.824827586206897,
            14.216999999999999,
            13.552121212121213,
            14.979000000000001,
            14.486428571428572,
            15.024687499999999,
            14.992857142857144,
            14.612666666666666,
            15.317142857142859
           ]
          }
         ],
         "name": "1997"
        },
        {
         "data": [
          {
           "coloraxis": "coloraxis",
           "geo": "geo",
           "hovertemplate": "<b>%{hovertext}</b><br><br>Year=1998<br>Country=%{location}<br>CO2_Emissions_MT=%{z}<extra></extra>",
           "hovertext": [
            "India",
            "Argentina",
            "France",
            "Brazil",
            "Canada",
            "Nigeria",
            "Russia",
            "USA",
            "Australia",
            "China"
           ],
           "locationmode": "country names",
           "locations": [
            "India",
            "Argentina",
            "France",
            "Brazil",
            "Canada",
            "Nigeria",
            "Russia",
            "USA",
            "Australia",
            "China"
           ],
           "name": "",
           "type": "choropleth",
           "z": [
            15.26939393939394,
            13.0525,
            15.297222222222224,
            11.5624,
            15.365625,
            17.11909090909091,
            14.624583333333334,
            14.793793103448275,
            17.642307692307693,
            13.456818181818182
           ]
          }
         ],
         "name": "1998"
        },
        {
         "data": [
          {
           "coloraxis": "coloraxis",
           "geo": "geo",
           "hovertemplate": "<b>%{hovertext}</b><br><br>Year=1999<br>Country=%{location}<br>CO2_Emissions_MT=%{z}<extra></extra>",
           "hovertext": [
            "France",
            "Canada",
            "USA",
            "Argentina",
            "China",
            "India",
            "Brazil",
            "Australia",
            "Russia",
            "Nigeria"
           ],
           "locationmode": "country names",
           "locations": [
            "France",
            "Canada",
            "USA",
            "Argentina",
            "China",
            "India",
            "Brazil",
            "Australia",
            "Russia",
            "Nigeria"
           ],
           "name": "",
           "type": "choropleth",
           "z": [
            17.767222222222223,
            16.706875,
            15.37625,
            15.576363636363636,
            15.514545454545456,
            16.747096774193547,
            15.791111111111112,
            14.072727272727272,
            15.538181818181817,
            14.383333333333333
           ]
          }
         ],
         "name": "1999"
        },
        {
         "data": [
          {
           "coloraxis": "coloraxis",
           "geo": "geo",
           "hovertemplate": "<b>%{hovertext}</b><br><br>Year=2000<br>Country=%{location}<br>CO2_Emissions_MT=%{z}<extra></extra>",
           "hovertext": [
            "Nigeria",
            "China",
            "India",
            "Australia",
            "Argentina",
            "USA",
            "Brazil",
            "Russia",
            "France",
            "Canada"
           ],
           "locationmode": "country names",
           "locations": [
            "Nigeria",
            "China",
            "India",
            "Australia",
            "Argentina",
            "USA",
            "Brazil",
            "Russia",
            "France",
            "Canada"
           ],
           "name": "",
           "type": "choropleth",
           "z": [
            14.316666666666666,
            18.11205882352941,
            17.36357142857143,
            17.719047619047622,
            16.25,
            18.805,
            14.75551724137931,
            15.510666666666667,
            15.165,
            15.644242424242425
           ]
          }
         ],
         "name": "2000"
        },
        {
         "data": [
          {
           "coloraxis": "coloraxis",
           "geo": "geo",
           "hovertemplate": "<b>%{hovertext}</b><br><br>Year=2001<br>Country=%{location}<br>CO2_Emissions_MT=%{z}<extra></extra>",
           "hovertext": [
            "Russia",
            "China",
            "Canada",
            "Brazil",
            "Argentina",
            "India",
            "Australia",
            "Nigeria",
            "USA",
            "France"
           ],
           "locationmode": "country names",
           "locations": [
            "Russia",
            "China",
            "Canada",
            "Brazil",
            "Argentina",
            "India",
            "Australia",
            "Nigeria",
            "USA",
            "France"
           ],
           "name": "",
           "type": "choropleth",
           "z": [
            18.740000000000002,
            14.488709677419354,
            16.862592592592595,
            16.10576923076923,
            15.785925925925927,
            16.594545454545454,
            16.6327027027027,
            15.001785714285715,
            17.779677419354837,
            16.96764705882353
           ]
          }
         ],
         "name": "2001"
        },
        {
         "data": [
          {
           "coloraxis": "coloraxis",
           "geo": "geo",
           "hovertemplate": "<b>%{hovertext}</b><br><br>Year=2002<br>Country=%{location}<br>CO2_Emissions_MT=%{z}<extra></extra>",
           "hovertext": [
            "France",
            "Argentina",
            "India",
            "USA",
            "Australia",
            "Brazil",
            "Russia",
            "China",
            "Nigeria",
            "Canada"
           ],
           "locationmode": "country names",
           "locations": [
            "France",
            "Argentina",
            "India",
            "USA",
            "Australia",
            "Brazil",
            "Russia",
            "China",
            "Nigeria",
            "Canada"
           ],
           "name": "",
           "type": "choropleth",
           "z": [
            15.171842105263158,
            12.987407407407408,
            15.897307692307692,
            13.777241379310345,
            15.445714285714287,
            14.317857142857141,
            15.0084,
            12.633750000000001,
            15.6604,
            12.094736842105263
           ]
          }
         ],
         "name": "2002"
        },
        {
         "data": [
          {
           "coloraxis": "coloraxis",
           "geo": "geo",
           "hovertemplate": "<b>%{hovertext}</b><br><br>Year=2003<br>Country=%{location}<br>CO2_Emissions_MT=%{z}<extra></extra>",
           "hovertext": [
            "China",
            "France",
            "Russia",
            "Brazil",
            "Nigeria",
            "Argentina",
            "Australia",
            "India",
            "USA",
            "Canada"
           ],
           "locationmode": "country names",
           "locations": [
            "China",
            "France",
            "Russia",
            "Brazil",
            "Nigeria",
            "Argentina",
            "Australia",
            "India",
            "USA",
            "Canada"
           ],
           "name": "",
           "type": "choropleth",
           "z": [
            13.223437500000001,
            13.335666666666667,
            14.44814814814815,
            11.385357142857144,
            14.486571428571429,
            15.602,
            15.24,
            16.94892857142857,
            15.499666666666666,
            17.582105263157896
           ]
          }
         ],
         "name": "2003"
        },
        {
         "data": [
          {
           "coloraxis": "coloraxis",
           "geo": "geo",
           "hovertemplate": "<b>%{hovertext}</b><br><br>Year=2004<br>Country=%{location}<br>CO2_Emissions_MT=%{z}<extra></extra>",
           "hovertext": [
            "France",
            "Argentina",
            "India",
            "China",
            "Australia",
            "Nigeria",
            "Brazil",
            "Russia",
            "USA",
            "Canada"
           ],
           "locationmode": "country names",
           "locations": [
            "France",
            "Argentina",
            "India",
            "China",
            "Australia",
            "Nigeria",
            "Brazil",
            "Russia",
            "USA",
            "Canada"
           ],
           "name": "",
           "type": "choropleth",
           "z": [
            13.538918918918919,
            17.958666666666666,
            15.131590909090908,
            12.920399999999999,
            16.28787878787879,
            15.522,
            15.398695652173913,
            13.42,
            13.504666666666667,
            14.964074074074073
           ]
          }
         ],
         "name": "2004"
        },
        {
         "data": [
          {
           "coloraxis": "coloraxis",
           "geo": "geo",
           "hovertemplate": "<b>%{hovertext}</b><br><br>Year=2005<br>Country=%{location}<br>CO2_Emissions_MT=%{z}<extra></extra>",
           "hovertext": [
            "China",
            "France",
            "Nigeria",
            "India",
            "Canada",
            "Australia",
            "USA",
            "Argentina",
            "Russia",
            "Brazil"
           ],
           "locationmode": "country names",
           "locations": [
            "China",
            "France",
            "Nigeria",
            "India",
            "Canada",
            "Australia",
            "USA",
            "Argentina",
            "Russia",
            "Brazil"
           ],
           "name": "",
           "type": "choropleth",
           "z": [
            12.485,
            18.196315789473687,
            15.623750000000001,
            15.66925925925926,
            16.604583333333334,
            14.770357142857142,
            18.124193548387098,
            16.818064516129034,
            14.324782608695653,
            16.364642857142858
           ]
          }
         ],
         "name": "2005"
        },
        {
         "data": [
          {
           "coloraxis": "coloraxis",
           "geo": "geo",
           "hovertemplate": "<b>%{hovertext}</b><br><br>Year=2006<br>Country=%{location}<br>CO2_Emissions_MT=%{z}<extra></extra>",
           "hovertext": [
            "USA",
            "Australia",
            "France",
            "Nigeria",
            "Brazil",
            "India",
            "Canada",
            "Russia",
            "China",
            "Argentina"
           ],
           "locationmode": "country names",
           "locations": [
            "USA",
            "Australia",
            "France",
            "Nigeria",
            "Brazil",
            "India",
            "Canada",
            "Russia",
            "China",
            "Argentina"
           ],
           "name": "",
           "type": "choropleth",
           "z": [
            15.23551724137931,
            17.116666666666667,
            13.4025,
            12.462608695652174,
            14.0212,
            14.674999999999999,
            15.773809523809524,
            11.953125,
            13.625357142857142,
            13.477037037037038
           ]
          }
         ],
         "name": "2006"
        },
        {
         "data": [
          {
           "coloraxis": "coloraxis",
           "geo": "geo",
           "hovertemplate": "<b>%{hovertext}</b><br><br>Year=2007<br>Country=%{location}<br>CO2_Emissions_MT=%{z}<extra></extra>",
           "hovertext": [
            "Argentina",
            "India",
            "Australia",
            "USA",
            "Nigeria",
            "France",
            "China",
            "Russia",
            "Brazil",
            "Canada"
           ],
           "locationmode": "country names",
           "locations": [
            "Argentina",
            "India",
            "Australia",
            "USA",
            "Nigeria",
            "France",
            "China",
            "Russia",
            "Brazil",
            "Canada"
           ],
           "name": "",
           "type": "choropleth",
           "z": [
            16.238518518518518,
            12.75357142857143,
            16.771379310344827,
            14.716111111111111,
            18.768,
            16.249310344827588,
            13.797272727272727,
            15.68,
            16.28058823529412,
            16.772727272727273
           ]
          }
         ],
         "name": "2007"
        },
        {
         "data": [
          {
           "coloraxis": "coloraxis",
           "geo": "geo",
           "hovertemplate": "<b>%{hovertext}</b><br><br>Year=2008<br>Country=%{location}<br>CO2_Emissions_MT=%{z}<extra></extra>",
           "hovertext": [
            "France",
            "China",
            "Brazil",
            "India",
            "Australia",
            "Russia",
            "USA",
            "Canada",
            "Argentina",
            "Nigeria"
           ],
           "locationmode": "country names",
           "locations": [
            "France",
            "China",
            "Brazil",
            "India",
            "Australia",
            "Russia",
            "USA",
            "Canada",
            "Argentina",
            "Nigeria"
           ],
           "name": "",
           "type": "choropleth",
           "z": [
            13.842,
            15.259729729729731,
            13.119499999999999,
            15.826896551724138,
            14.096857142857143,
            13.788620689655172,
            11.671600000000002,
            15.408846153846154,
            16.905625,
            15.169333333333332
           ]
          }
         ],
         "name": "2008"
        },
        {
         "data": [
          {
           "coloraxis": "coloraxis",
           "geo": "geo",
           "hovertemplate": "<b>%{hovertext}</b><br><br>Year=2009<br>Country=%{location}<br>CO2_Emissions_MT=%{z}<extra></extra>",
           "hovertext": [
            "Australia",
            "India",
            "USA",
            "Russia",
            "Brazil",
            "Canada",
            "Nigeria",
            "France",
            "Argentina",
            "China"
           ],
           "locationmode": "country names",
           "locations": [
            "Australia",
            "India",
            "USA",
            "Russia",
            "Brazil",
            "Canada",
            "Nigeria",
            "France",
            "Argentina",
            "China"
           ],
           "name": "",
           "type": "choropleth",
           "z": [
            14.032608695652174,
            15.002777777777778,
            14.196774193548388,
            14.258064516129032,
            18.311333333333334,
            16.66756756756757,
            13.656451612903227,
            15.844827586206897,
            15.74962962962963,
            13.7148
           ]
          }
         ],
         "name": "2009"
        },
        {
         "data": [
          {
           "coloraxis": "coloraxis",
           "geo": "geo",
           "hovertemplate": "<b>%{hovertext}</b><br><br>Year=2010<br>Country=%{location}<br>CO2_Emissions_MT=%{z}<extra></extra>",
           "hovertext": [
            "Canada",
            "Brazil",
            "USA",
            "India",
            "Russia",
            "Nigeria",
            "Argentina",
            "China",
            "France",
            "Australia"
           ],
           "locationmode": "country names",
           "locations": [
            "Canada",
            "Brazil",
            "USA",
            "India",
            "Russia",
            "Nigeria",
            "Argentina",
            "China",
            "France",
            "Australia"
           ],
           "name": "",
           "type": "choropleth",
           "z": [
            15.824333333333334,
            13.615172413793102,
            16.213461538461537,
            15.717916666666667,
            17.425945945945944,
            13.621923076923078,
            13.817333333333332,
            16.11470588235294,
            13.885483870967741,
            16.830000000000002
           ]
          }
         ],
         "name": "2010"
        },
        {
         "data": [
          {
           "coloraxis": "coloraxis",
           "geo": "geo",
           "hovertemplate": "<b>%{hovertext}</b><br><br>Year=2011<br>Country=%{location}<br>CO2_Emissions_MT=%{z}<extra></extra>",
           "hovertext": [
            "Brazil",
            "Argentina",
            "France",
            "India",
            "Russia",
            "Nigeria",
            "Canada",
            "China",
            "Australia",
            "USA"
           ],
           "locationmode": "country names",
           "locations": [
            "Brazil",
            "Argentina",
            "France",
            "India",
            "Russia",
            "Nigeria",
            "Canada",
            "China",
            "Australia",
            "USA"
           ],
           "name": "",
           "type": "choropleth",
           "z": [
            17.328235294117647,
            15.731428571428571,
            19.056874999999998,
            16.07892857142857,
            11.51969696969697,
            14.123461538461537,
            15.030344827586207,
            17.593809523809526,
            12.633333333333333,
            16.58375
           ]
          }
         ],
         "name": "2011"
        },
        {
         "data": [
          {
           "coloraxis": "coloraxis",
           "geo": "geo",
           "hovertemplate": "<b>%{hovertext}</b><br><br>Year=2012<br>Country=%{location}<br>CO2_Emissions_MT=%{z}<extra></extra>",
           "hovertext": [
            "Argentina",
            "India",
            "Canada",
            "Russia",
            "Australia",
            "China",
            "France",
            "Brazil",
            "Nigeria",
            "USA"
           ],
           "locationmode": "country names",
           "locations": [
            "Argentina",
            "India",
            "Canada",
            "Russia",
            "Australia",
            "China",
            "France",
            "Brazil",
            "Nigeria",
            "USA"
           ],
           "name": "",
           "type": "choropleth",
           "z": [
            13.813333333333333,
            13.311351351351352,
            16.923333333333332,
            14.538518518518519,
            14.119210526315788,
            14.722439024390244,
            14.808064516129033,
            16.618965517241378,
            17.09423076923077,
            16.116363636363637
           ]
          }
         ],
         "name": "2012"
        },
        {
         "data": [
          {
           "coloraxis": "coloraxis",
           "geo": "geo",
           "hovertemplate": "<b>%{hovertext}</b><br><br>Year=2013<br>Country=%{location}<br>CO2_Emissions_MT=%{z}<extra></extra>",
           "hovertext": [
            "China",
            "USA",
            "Nigeria",
            "Argentina",
            "Russia",
            "Brazil",
            "Canada",
            "Australia",
            "India",
            "France"
           ],
           "locationmode": "country names",
           "locations": [
            "China",
            "USA",
            "Nigeria",
            "Argentina",
            "Russia",
            "Brazil",
            "Canada",
            "Australia",
            "India",
            "France"
           ],
           "name": "",
           "type": "choropleth",
           "z": [
            14.171904761904763,
            14.945641025641025,
            15.819411764705883,
            16.765333333333334,
            13.455666666666668,
            16.6221875,
            14.422592592592594,
            14.648846153846154,
            15.555294117647058,
            15.80375
           ]
          }
         ],
         "name": "2013"
        },
        {
         "data": [
          {
           "coloraxis": "coloraxis",
           "geo": "geo",
           "hovertemplate": "<b>%{hovertext}</b><br><br>Year=2014<br>Country=%{location}<br>CO2_Emissions_MT=%{z}<extra></extra>",
           "hovertext": [
            "Russia",
            "Nigeria",
            "USA",
            "Brazil",
            "Canada",
            "Argentina",
            "China",
            "India",
            "France",
            "Australia"
           ],
           "locationmode": "country names",
           "locations": [
            "Russia",
            "Nigeria",
            "USA",
            "Brazil",
            "Canada",
            "Argentina",
            "China",
            "India",
            "France",
            "Australia"
           ],
           "name": "",
           "type": "choropleth",
           "z": [
            11.695238095238095,
            13.564285714285715,
            13.758095238095239,
            12.601176470588236,
            13.701724137931036,
            18.01529411764706,
            14.247142857142856,
            11.565666666666665,
            16.4972,
            15.627073170731709
           ]
          }
         ],
         "name": "2014"
        },
        {
         "data": [
          {
           "coloraxis": "coloraxis",
           "geo": "geo",
           "hovertemplate": "<b>%{hovertext}</b><br><br>Year=2015<br>Country=%{location}<br>CO2_Emissions_MT=%{z}<extra></extra>",
           "hovertext": [
            "Brazil",
            "Russia",
            "China",
            "USA",
            "Nigeria",
            "France",
            "Australia",
            "Canada",
            "India",
            "Argentina"
           ],
           "locationmode": "country names",
           "locations": [
            "Brazil",
            "Russia",
            "China",
            "USA",
            "Nigeria",
            "France",
            "Australia",
            "Canada",
            "India",
            "Argentina"
           ],
           "name": "",
           "type": "choropleth",
           "z": [
            15.247666666666667,
            17.023214285714285,
            16.983125,
            14.178863636363637,
            13.303783783783784,
            12.528888888888888,
            15.581538461538461,
            15.844166666666666,
            12.3325,
            13.840769230769231
           ]
          }
         ],
         "name": "2015"
        },
        {
         "data": [
          {
           "coloraxis": "coloraxis",
           "geo": "geo",
           "hovertemplate": "<b>%{hovertext}</b><br><br>Year=2016<br>Country=%{location}<br>CO2_Emissions_MT=%{z}<extra></extra>",
           "hovertext": [
            "USA",
            "France",
            "Russia",
            "Australia",
            "Argentina",
            "India",
            "Canada",
            "Brazil",
            "China",
            "Nigeria"
           ],
           "locationmode": "country names",
           "locations": [
            "USA",
            "France",
            "Russia",
            "Australia",
            "Argentina",
            "India",
            "Canada",
            "Brazil",
            "China",
            "Nigeria"
           ],
           "name": "",
           "type": "choropleth",
           "z": [
            15.6476,
            15.052857142857144,
            16.800434782608693,
            16.531153846153845,
            13.8525,
            15.852666666666666,
            15.849,
            16.53290322580645,
            12.835588235294116,
            14.567555555555554
           ]
          }
         ],
         "name": "2016"
        },
        {
         "data": [
          {
           "coloraxis": "coloraxis",
           "geo": "geo",
           "hovertemplate": "<b>%{hovertext}</b><br><br>Year=2017<br>Country=%{location}<br>CO2_Emissions_MT=%{z}<extra></extra>",
           "hovertext": [
            "China",
            "Russia",
            "Canada",
            "Brazil",
            "Australia",
            "Argentina",
            "France",
            "USA",
            "Nigeria",
            "India"
           ],
           "locationmode": "country names",
           "locations": [
            "China",
            "Russia",
            "Canada",
            "Brazil",
            "Australia",
            "Argentina",
            "France",
            "USA",
            "Nigeria",
            "India"
           ],
           "name": "",
           "type": "choropleth",
           "z": [
            14.427272727272726,
            17.38142857142857,
            15.591304347826087,
            12.75,
            13.883333333333333,
            14.7228125,
            12.544827586206896,
            13.465789473684211,
            15.965,
            17.958399999999997
           ]
          }
         ],
         "name": "2017"
        },
        {
         "data": [
          {
           "coloraxis": "coloraxis",
           "geo": "geo",
           "hovertemplate": "<b>%{hovertext}</b><br><br>Year=2018<br>Country=%{location}<br>CO2_Emissions_MT=%{z}<extra></extra>",
           "hovertext": [
            "Brazil",
            "India",
            "Canada",
            "Argentina",
            "Nigeria",
            "China",
            "Australia",
            "USA",
            "France",
            "Russia"
           ],
           "locationmode": "country names",
           "locations": [
            "Brazil",
            "India",
            "Canada",
            "Argentina",
            "Nigeria",
            "China",
            "Australia",
            "USA",
            "France",
            "Russia"
           ],
           "name": "",
           "type": "choropleth",
           "z": [
            16.39391304347826,
            16.4145,
            18.92233333333333,
            12.904166666666667,
            15.684827586206897,
            17.15911764705882,
            14.20590909090909,
            15.644137931034482,
            16.83586206896552,
            14.5875
           ]
          }
         ],
         "name": "2018"
        },
        {
         "data": [
          {
           "coloraxis": "coloraxis",
           "geo": "geo",
           "hovertemplate": "<b>%{hovertext}</b><br><br>Year=2019<br>Country=%{location}<br>CO2_Emissions_MT=%{z}<extra></extra>",
           "hovertext": [
            "Argentina",
            "Australia",
            "Brazil",
            "Russia",
            "China",
            "Nigeria",
            "France",
            "Canada",
            "India",
            "USA"
           ],
           "locationmode": "country names",
           "locations": [
            "Argentina",
            "Australia",
            "Brazil",
            "Russia",
            "China",
            "Nigeria",
            "France",
            "Canada",
            "India",
            "USA"
           ],
           "name": "",
           "type": "choropleth",
           "z": [
            14.78842105263158,
            17.48357142857143,
            15.776153846153846,
            16.671714285714284,
            16.813888888888886,
            16.615172413793104,
            12.760000000000002,
            16.367878787878787,
            14.034210526315789,
            17.10516129032258
           ]
          }
         ],
         "name": "2019"
        },
        {
         "data": [
          {
           "coloraxis": "coloraxis",
           "geo": "geo",
           "hovertemplate": "<b>%{hovertext}</b><br><br>Year=2020<br>Country=%{location}<br>CO2_Emissions_MT=%{z}<extra></extra>",
           "hovertext": [
            "Russia",
            "Nigeria",
            "Australia",
            "China",
            "USA",
            "Canada",
            "Brazil",
            "France",
            "Argentina",
            "India"
           ],
           "locationmode": "country names",
           "locations": [
            "Russia",
            "Nigeria",
            "Australia",
            "China",
            "USA",
            "Canada",
            "Brazil",
            "France",
            "Argentina",
            "India"
           ],
           "name": "",
           "type": "choropleth",
           "z": [
            17.227619047619047,
            15.86344827586207,
            14.257037037037037,
            15.82763157894737,
            15.41741935483871,
            15.44086956521739,
            17.4316,
            15.825294117647061,
            15.694137931034483,
            13.320000000000002
           ]
          }
         ],
         "name": "2020"
        },
        {
         "data": [
          {
           "coloraxis": "coloraxis",
           "geo": "geo",
           "hovertemplate": "<b>%{hovertext}</b><br><br>Year=2021<br>Country=%{location}<br>CO2_Emissions_MT=%{z}<extra></extra>",
           "hovertext": [
            "France",
            "Australia",
            "USA",
            "China",
            "Argentina",
            "Russia",
            "Nigeria",
            "Canada",
            "Brazil",
            "India"
           ],
           "locationmode": "country names",
           "locations": [
            "France",
            "Australia",
            "USA",
            "China",
            "Argentina",
            "Russia",
            "Nigeria",
            "Canada",
            "Brazil",
            "India"
           ],
           "name": "",
           "type": "choropleth",
           "z": [
            16.913225806451614,
            14.852121212121212,
            13.761612903225807,
            15.108461538461539,
            14.945,
            15.851851851851851,
            14.709999999999999,
            11.990833333333335,
            15.972285714285713,
            14.909375
           ]
          }
         ],
         "name": "2021"
        },
        {
         "data": [
          {
           "coloraxis": "coloraxis",
           "geo": "geo",
           "hovertemplate": "<b>%{hovertext}</b><br><br>Year=2022<br>Country=%{location}<br>CO2_Emissions_MT=%{z}<extra></extra>",
           "hovertext": [
            "Argentina",
            "India",
            "Australia",
            "Nigeria",
            "Canada",
            "China",
            "France",
            "Brazil",
            "USA",
            "Russia"
           ],
           "locationmode": "country names",
           "locations": [
            "Argentina",
            "India",
            "Australia",
            "Nigeria",
            "Canada",
            "China",
            "France",
            "Brazil",
            "USA",
            "Russia"
           ],
           "name": "",
           "type": "choropleth",
           "z": [
            14.692857142857141,
            15.856451612903227,
            13.1075,
            13.243870967741936,
            16.0204,
            17.212692307692308,
            14.694857142857144,
            13.5876,
            17.217142857142857,
            14.478695652173913
           ]
          }
         ],
         "name": "2022"
        },
        {
         "data": [
          {
           "coloraxis": "coloraxis",
           "geo": "geo",
           "hovertemplate": "<b>%{hovertext}</b><br><br>Year=2023<br>Country=%{location}<br>CO2_Emissions_MT=%{z}<extra></extra>",
           "hovertext": [
            "France",
            "Australia",
            "USA",
            "China",
            "Russia",
            "Nigeria",
            "Canada",
            "Brazil",
            "Argentina",
            "India"
           ],
           "locationmode": "country names",
           "locations": [
            "France",
            "Australia",
            "USA",
            "China",
            "Russia",
            "Nigeria",
            "Canada",
            "Brazil",
            "Argentina",
            "India"
           ],
           "name": "",
           "type": "choropleth",
           "z": [
            17.56357142857143,
            13.956551724137931,
            13.312222222222223,
            15.944444444444445,
            13.552333333333333,
            15.151212121212122,
            14.573030303030302,
            15.645714285714286,
            17.71,
            15.058055555555557
           ]
          }
         ],
         "name": "2023"
        },
        {
         "data": [
          {
           "coloraxis": "coloraxis",
           "geo": "geo",
           "hovertemplate": "<b>%{hovertext}</b><br><br>Year=2024<br>Country=%{location}<br>CO2_Emissions_MT=%{z}<extra></extra>",
           "hovertext": [
            "China",
            "Nigeria",
            "India",
            "France",
            "Canada",
            "Brazil",
            "Australia",
            "Argentina",
            "Russia",
            "USA"
           ],
           "locationmode": "country names",
           "locations": [
            "China",
            "Nigeria",
            "India",
            "France",
            "Canada",
            "Brazil",
            "Australia",
            "Argentina",
            "Russia",
            "USA"
           ],
           "name": "",
           "type": "choropleth",
           "z": [
            13.345454545454546,
            14.333461538461538,
            14.903703703703705,
            17.246538461538464,
            14.87148148148148,
            13.6,
            17.073333333333334,
            15.108076923076924,
            14.443846153846154,
            17.40108108108108
           ]
          }
         ],
         "name": "2024"
        }
       ],
       "layout": {
        "coloraxis": {
         "cmax": 19.3915625,
         "cmin": 11.385357142857144,
         "colorbar": {
          "title": {
           "text": "Average CO2 Emissions (Mt)"
          }
         },
         "colorscale": [
          [
           0,
           "#fde725"
          ],
          [
           0.1111111111111111,
           "#b5de2b"
          ],
          [
           0.2222222222222222,
           "#6ece58"
          ],
          [
           0.3333333333333333,
           "#35b779"
          ],
          [
           0.4444444444444444,
           "#1f9e89"
          ],
          [
           0.5555555555555556,
           "#26828e"
          ],
          [
           0.6666666666666666,
           "#31688e"
          ],
          [
           0.7777777777777778,
           "#3e4989"
          ],
          [
           0.8888888888888888,
           "#482878"
          ],
          [
           1,
           "#440154"
          ]
         ]
        },
        "geo": {
         "center": {},
         "domain": {
          "x": [
           0,
           1
          ],
          "y": [
           0,
           1
          ]
         },
         "projection": {
          "type": "natural earth"
         }
        },
        "height": 800,
        "legend": {
         "tracegroupgap": 0
        },
        "sliders": [
         {
          "active": 0,
          "currentvalue": {
           "font": {
            "size": 20
           },
           "prefix": "Year:",
           "visible": true,
           "xanchor": "right"
          },
          "len": 0.9,
          "pad": {
           "b": 10,
           "t": 50
          },
          "steps": [
           {
            "args": [
             [
              "1990"
             ],
             {
              "frame": {
               "duration": 300,
               "redraw": true
              },
              "mode": "immediate",
              "transition": {
               "duration": 300
              }
             }
            ],
            "label": "1990",
            "method": "animate"
           },
           {
            "args": [
             [
              "1991"
             ],
             {
              "frame": {
               "duration": 300,
               "redraw": true
              },
              "mode": "immediate",
              "transition": {
               "duration": 300
              }
             }
            ],
            "label": "1991",
            "method": "animate"
           },
           {
            "args": [
             [
              "1992"
             ],
             {
              "frame": {
               "duration": 300,
               "redraw": true
              },
              "mode": "immediate",
              "transition": {
               "duration": 300
              }
             }
            ],
            "label": "1992",
            "method": "animate"
           },
           {
            "args": [
             [
              "1993"
             ],
             {
              "frame": {
               "duration": 300,
               "redraw": true
              },
              "mode": "immediate",
              "transition": {
               "duration": 300
              }
             }
            ],
            "label": "1993",
            "method": "animate"
           },
           {
            "args": [
             [
              "1994"
             ],
             {
              "frame": {
               "duration": 300,
               "redraw": true
              },
              "mode": "immediate",
              "transition": {
               "duration": 300
              }
             }
            ],
            "label": "1994",
            "method": "animate"
           },
           {
            "args": [
             [
              "1995"
             ],
             {
              "frame": {
               "duration": 300,
               "redraw": true
              },
              "mode": "immediate",
              "transition": {
               "duration": 300
              }
             }
            ],
            "label": "1995",
            "method": "animate"
           },
           {
            "args": [
             [
              "1996"
             ],
             {
              "frame": {
               "duration": 300,
               "redraw": true
              },
              "mode": "immediate",
              "transition": {
               "duration": 300
              }
             }
            ],
            "label": "1996",
            "method": "animate"
           },
           {
            "args": [
             [
              "1997"
             ],
             {
              "frame": {
               "duration": 300,
               "redraw": true
              },
              "mode": "immediate",
              "transition": {
               "duration": 300
              }
             }
            ],
            "label": "1997",
            "method": "animate"
           },
           {
            "args": [
             [
              "1998"
             ],
             {
              "frame": {
               "duration": 300,
               "redraw": true
              },
              "mode": "immediate",
              "transition": {
               "duration": 300
              }
             }
            ],
            "label": "1998",
            "method": "animate"
           },
           {
            "args": [
             [
              "1999"
             ],
             {
              "frame": {
               "duration": 300,
               "redraw": true
              },
              "mode": "immediate",
              "transition": {
               "duration": 300
              }
             }
            ],
            "label": "1999",
            "method": "animate"
           },
           {
            "args": [
             [
              "2000"
             ],
             {
              "frame": {
               "duration": 300,
               "redraw": true
              },
              "mode": "immediate",
              "transition": {
               "duration": 300
              }
             }
            ],
            "label": "2000",
            "method": "animate"
           },
           {
            "args": [
             [
              "2001"
             ],
             {
              "frame": {
               "duration": 300,
               "redraw": true
              },
              "mode": "immediate",
              "transition": {
               "duration": 300
              }
             }
            ],
            "label": "2001",
            "method": "animate"
           },
           {
            "args": [
             [
              "2002"
             ],
             {
              "frame": {
               "duration": 300,
               "redraw": true
              },
              "mode": "immediate",
              "transition": {
               "duration": 300
              }
             }
            ],
            "label": "2002",
            "method": "animate"
           },
           {
            "args": [
             [
              "2003"
             ],
             {
              "frame": {
               "duration": 300,
               "redraw": true
              },
              "mode": "immediate",
              "transition": {
               "duration": 300
              }
             }
            ],
            "label": "2003",
            "method": "animate"
           },
           {
            "args": [
             [
              "2004"
             ],
             {
              "frame": {
               "duration": 300,
               "redraw": true
              },
              "mode": "immediate",
              "transition": {
               "duration": 300
              }
             }
            ],
            "label": "2004",
            "method": "animate"
           },
           {
            "args": [
             [
              "2005"
             ],
             {
              "frame": {
               "duration": 300,
               "redraw": true
              },
              "mode": "immediate",
              "transition": {
               "duration": 300
              }
             }
            ],
            "label": "2005",
            "method": "animate"
           },
           {
            "args": [
             [
              "2006"
             ],
             {
              "frame": {
               "duration": 300,
               "redraw": true
              },
              "mode": "immediate",
              "transition": {
               "duration": 300
              }
             }
            ],
            "label": "2006",
            "method": "animate"
           },
           {
            "args": [
             [
              "2007"
             ],
             {
              "frame": {
               "duration": 300,
               "redraw": true
              },
              "mode": "immediate",
              "transition": {
               "duration": 300
              }
             }
            ],
            "label": "2007",
            "method": "animate"
           },
           {
            "args": [
             [
              "2008"
             ],
             {
              "frame": {
               "duration": 300,
               "redraw": true
              },
              "mode": "immediate",
              "transition": {
               "duration": 300
              }
             }
            ],
            "label": "2008",
            "method": "animate"
           },
           {
            "args": [
             [
              "2009"
             ],
             {
              "frame": {
               "duration": 300,
               "redraw": true
              },
              "mode": "immediate",
              "transition": {
               "duration": 300
              }
             }
            ],
            "label": "2009",
            "method": "animate"
           },
           {
            "args": [
             [
              "2010"
             ],
             {
              "frame": {
               "duration": 300,
               "redraw": true
              },
              "mode": "immediate",
              "transition": {
               "duration": 300
              }
             }
            ],
            "label": "2010",
            "method": "animate"
           },
           {
            "args": [
             [
              "2011"
             ],
             {
              "frame": {
               "duration": 300,
               "redraw": true
              },
              "mode": "immediate",
              "transition": {
               "duration": 300
              }
             }
            ],
            "label": "2011",
            "method": "animate"
           },
           {
            "args": [
             [
              "2012"
             ],
             {
              "frame": {
               "duration": 300,
               "redraw": true
              },
              "mode": "immediate",
              "transition": {
               "duration": 300
              }
             }
            ],
            "label": "2012",
            "method": "animate"
           },
           {
            "args": [
             [
              "2013"
             ],
             {
              "frame": {
               "duration": 300,
               "redraw": true
              },
              "mode": "immediate",
              "transition": {
               "duration": 300
              }
             }
            ],
            "label": "2013",
            "method": "animate"
           },
           {
            "args": [
             [
              "2014"
             ],
             {
              "frame": {
               "duration": 300,
               "redraw": true
              },
              "mode": "immediate",
              "transition": {
               "duration": 300
              }
             }
            ],
            "label": "2014",
            "method": "animate"
           },
           {
            "args": [
             [
              "2015"
             ],
             {
              "frame": {
               "duration": 300,
               "redraw": true
              },
              "mode": "immediate",
              "transition": {
               "duration": 300
              }
             }
            ],
            "label": "2015",
            "method": "animate"
           },
           {
            "args": [
             [
              "2016"
             ],
             {
              "frame": {
               "duration": 300,
               "redraw": true
              },
              "mode": "immediate",
              "transition": {
               "duration": 300
              }
             }
            ],
            "label": "2016",
            "method": "animate"
           },
           {
            "args": [
             [
              "2017"
             ],
             {
              "frame": {
               "duration": 300,
               "redraw": true
              },
              "mode": "immediate",
              "transition": {
               "duration": 300
              }
             }
            ],
            "label": "2017",
            "method": "animate"
           },
           {
            "args": [
             [
              "2018"
             ],
             {
              "frame": {
               "duration": 300,
               "redraw": true
              },
              "mode": "immediate",
              "transition": {
               "duration": 300
              }
             }
            ],
            "label": "2018",
            "method": "animate"
           },
           {
            "args": [
             [
              "2019"
             ],
             {
              "frame": {
               "duration": 300,
               "redraw": true
              },
              "mode": "immediate",
              "transition": {
               "duration": 300
              }
             }
            ],
            "label": "2019",
            "method": "animate"
           },
           {
            "args": [
             [
              "2020"
             ],
             {
              "frame": {
               "duration": 300,
               "redraw": true
              },
              "mode": "immediate",
              "transition": {
               "duration": 300
              }
             }
            ],
            "label": "2020",
            "method": "animate"
           },
           {
            "args": [
             [
              "2021"
             ],
             {
              "frame": {
               "duration": 300,
               "redraw": true
              },
              "mode": "immediate",
              "transition": {
               "duration": 300
              }
             }
            ],
            "label": "2021",
            "method": "animate"
           },
           {
            "args": [
             [
              "2022"
             ],
             {
              "frame": {
               "duration": 300,
               "redraw": true
              },
              "mode": "immediate",
              "transition": {
               "duration": 300
              }
             }
            ],
            "label": "2022",
            "method": "animate"
           },
           {
            "args": [
             [
              "2023"
             ],
             {
              "frame": {
               "duration": 300,
               "redraw": true
              },
              "mode": "immediate",
              "transition": {
               "duration": 300
              }
             }
            ],
            "label": "2023",
            "method": "animate"
           },
           {
            "args": [
             [
              "2024"
             ],
             {
              "frame": {
               "duration": 300,
               "redraw": true
              },
              "mode": "immediate",
              "transition": {
               "duration": 300
              }
             }
            ],
            "label": "2024",
            "method": "animate"
           }
          ],
          "transition": {
           "duration": 300,
           "easing": "cubic-in-out"
          },
          "x": 0.1,
          "xanchor": "left",
          "y": 0,
          "yanchor": "top"
         }
        ],
        "template": {
         "data": {
          "bar": [
           {
            "error_x": {
             "color": "#2a3f5f"
            },
            "error_y": {
             "color": "#2a3f5f"
            },
            "marker": {
             "line": {
              "color": "#E5ECF6",
              "width": 0.5
             },
             "pattern": {
              "fillmode": "overlay",
              "size": 10,
              "solidity": 0.2
             }
            },
            "type": "bar"
           }
          ],
          "barpolar": [
           {
            "marker": {
             "line": {
              "color": "#E5ECF6",
              "width": 0.5
             },
             "pattern": {
              "fillmode": "overlay",
              "size": 10,
              "solidity": 0.2
             }
            },
            "type": "barpolar"
           }
          ],
          "carpet": [
           {
            "aaxis": {
             "endlinecolor": "#2a3f5f",
             "gridcolor": "white",
             "linecolor": "white",
             "minorgridcolor": "white",
             "startlinecolor": "#2a3f5f"
            },
            "baxis": {
             "endlinecolor": "#2a3f5f",
             "gridcolor": "white",
             "linecolor": "white",
             "minorgridcolor": "white",
             "startlinecolor": "#2a3f5f"
            },
            "type": "carpet"
           }
          ],
          "choropleth": [
           {
            "colorbar": {
             "outlinewidth": 0,
             "ticks": ""
            },
            "type": "choropleth"
           }
          ],
          "contour": [
           {
            "colorbar": {
             "outlinewidth": 0,
             "ticks": ""
            },
            "colorscale": [
             [
              0,
              "#0d0887"
             ],
             [
              0.1111111111111111,
              "#46039f"
             ],
             [
              0.2222222222222222,
              "#7201a8"
             ],
             [
              0.3333333333333333,
              "#9c179e"
             ],
             [
              0.4444444444444444,
              "#bd3786"
             ],
             [
              0.5555555555555556,
              "#d8576b"
             ],
             [
              0.6666666666666666,
              "#ed7953"
             ],
             [
              0.7777777777777778,
              "#fb9f3a"
             ],
             [
              0.8888888888888888,
              "#fdca26"
             ],
             [
              1,
              "#f0f921"
             ]
            ],
            "type": "contour"
           }
          ],
          "contourcarpet": [
           {
            "colorbar": {
             "outlinewidth": 0,
             "ticks": ""
            },
            "type": "contourcarpet"
           }
          ],
          "heatmap": [
           {
            "colorbar": {
             "outlinewidth": 0,
             "ticks": ""
            },
            "colorscale": [
             [
              0,
              "#0d0887"
             ],
             [
              0.1111111111111111,
              "#46039f"
             ],
             [
              0.2222222222222222,
              "#7201a8"
             ],
             [
              0.3333333333333333,
              "#9c179e"
             ],
             [
              0.4444444444444444,
              "#bd3786"
             ],
             [
              0.5555555555555556,
              "#d8576b"
             ],
             [
              0.6666666666666666,
              "#ed7953"
             ],
             [
              0.7777777777777778,
              "#fb9f3a"
             ],
             [
              0.8888888888888888,
              "#fdca26"
             ],
             [
              1,
              "#f0f921"
             ]
            ],
            "type": "heatmap"
           }
          ],
          "heatmapgl": [
           {
            "colorbar": {
             "outlinewidth": 0,
             "ticks": ""
            },
            "colorscale": [
             [
              0,
              "#0d0887"
             ],
             [
              0.1111111111111111,
              "#46039f"
             ],
             [
              0.2222222222222222,
              "#7201a8"
             ],
             [
              0.3333333333333333,
              "#9c179e"
             ],
             [
              0.4444444444444444,
              "#bd3786"
             ],
             [
              0.5555555555555556,
              "#d8576b"
             ],
             [
              0.6666666666666666,
              "#ed7953"
             ],
             [
              0.7777777777777778,
              "#fb9f3a"
             ],
             [
              0.8888888888888888,
              "#fdca26"
             ],
             [
              1,
              "#f0f921"
             ]
            ],
            "type": "heatmapgl"
           }
          ],
          "histogram": [
           {
            "marker": {
             "pattern": {
              "fillmode": "overlay",
              "size": 10,
              "solidity": 0.2
             }
            },
            "type": "histogram"
           }
          ],
          "histogram2d": [
           {
            "colorbar": {
             "outlinewidth": 0,
             "ticks": ""
            },
            "colorscale": [
             [
              0,
              "#0d0887"
             ],
             [
              0.1111111111111111,
              "#46039f"
             ],
             [
              0.2222222222222222,
              "#7201a8"
             ],
             [
              0.3333333333333333,
              "#9c179e"
             ],
             [
              0.4444444444444444,
              "#bd3786"
             ],
             [
              0.5555555555555556,
              "#d8576b"
             ],
             [
              0.6666666666666666,
              "#ed7953"
             ],
             [
              0.7777777777777778,
              "#fb9f3a"
             ],
             [
              0.8888888888888888,
              "#fdca26"
             ],
             [
              1,
              "#f0f921"
             ]
            ],
            "type": "histogram2d"
           }
          ],
          "histogram2dcontour": [
           {
            "colorbar": {
             "outlinewidth": 0,
             "ticks": ""
            },
            "colorscale": [
             [
              0,
              "#0d0887"
             ],
             [
              0.1111111111111111,
              "#46039f"
             ],
             [
              0.2222222222222222,
              "#7201a8"
             ],
             [
              0.3333333333333333,
              "#9c179e"
             ],
             [
              0.4444444444444444,
              "#bd3786"
             ],
             [
              0.5555555555555556,
              "#d8576b"
             ],
             [
              0.6666666666666666,
              "#ed7953"
             ],
             [
              0.7777777777777778,
              "#fb9f3a"
             ],
             [
              0.8888888888888888,
              "#fdca26"
             ],
             [
              1,
              "#f0f921"
             ]
            ],
            "type": "histogram2dcontour"
           }
          ],
          "mesh3d": [
           {
            "colorbar": {
             "outlinewidth": 0,
             "ticks": ""
            },
            "type": "mesh3d"
           }
          ],
          "parcoords": [
           {
            "line": {
             "colorbar": {
              "outlinewidth": 0,
              "ticks": ""
             }
            },
            "type": "parcoords"
           }
          ],
          "pie": [
           {
            "automargin": true,
            "type": "pie"
           }
          ],
          "scatter": [
           {
            "fillpattern": {
             "fillmode": "overlay",
             "size": 10,
             "solidity": 0.2
            },
            "type": "scatter"
           }
          ],
          "scatter3d": [
           {
            "line": {
             "colorbar": {
              "outlinewidth": 0,
              "ticks": ""
             }
            },
            "marker": {
             "colorbar": {
              "outlinewidth": 0,
              "ticks": ""
             }
            },
            "type": "scatter3d"
           }
          ],
          "scattercarpet": [
           {
            "marker": {
             "colorbar": {
              "outlinewidth": 0,
              "ticks": ""
             }
            },
            "type": "scattercarpet"
           }
          ],
          "scattergeo": [
           {
            "marker": {
             "colorbar": {
              "outlinewidth": 0,
              "ticks": ""
             }
            },
            "type": "scattergeo"
           }
          ],
          "scattergl": [
           {
            "marker": {
             "colorbar": {
              "outlinewidth": 0,
              "ticks": ""
             }
            },
            "type": "scattergl"
           }
          ],
          "scattermapbox": [
           {
            "marker": {
             "colorbar": {
              "outlinewidth": 0,
              "ticks": ""
             }
            },
            "type": "scattermapbox"
           }
          ],
          "scatterpolar": [
           {
            "marker": {
             "colorbar": {
              "outlinewidth": 0,
              "ticks": ""
             }
            },
            "type": "scatterpolar"
           }
          ],
          "scatterpolargl": [
           {
            "marker": {
             "colorbar": {
              "outlinewidth": 0,
              "ticks": ""
             }
            },
            "type": "scatterpolargl"
           }
          ],
          "scatterternary": [
           {
            "marker": {
             "colorbar": {
              "outlinewidth": 0,
              "ticks": ""
             }
            },
            "type": "scatterternary"
           }
          ],
          "surface": [
           {
            "colorbar": {
             "outlinewidth": 0,
             "ticks": ""
            },
            "colorscale": [
             [
              0,
              "#0d0887"
             ],
             [
              0.1111111111111111,
              "#46039f"
             ],
             [
              0.2222222222222222,
              "#7201a8"
             ],
             [
              0.3333333333333333,
              "#9c179e"
             ],
             [
              0.4444444444444444,
              "#bd3786"
             ],
             [
              0.5555555555555556,
              "#d8576b"
             ],
             [
              0.6666666666666666,
              "#ed7953"
             ],
             [
              0.7777777777777778,
              "#fb9f3a"
             ],
             [
              0.8888888888888888,
              "#fdca26"
             ],
             [
              1,
              "#f0f921"
             ]
            ],
            "type": "surface"
           }
          ],
          "table": [
           {
            "cells": {
             "fill": {
              "color": "#EBF0F8"
             },
             "line": {
              "color": "white"
             }
            },
            "header": {
             "fill": {
              "color": "#C8D4E3"
             },
             "line": {
              "color": "white"
             }
            },
            "type": "table"
           }
          ]
         },
         "layout": {
          "annotationdefaults": {
           "arrowcolor": "#2a3f5f",
           "arrowhead": 0,
           "arrowwidth": 1
          },
          "autotypenumbers": "strict",
          "coloraxis": {
           "colorbar": {
            "outlinewidth": 0,
            "ticks": ""
           }
          },
          "colorscale": {
           "diverging": [
            [
             0,
             "#8e0152"
            ],
            [
             0.1,
             "#c51b7d"
            ],
            [
             0.2,
             "#de77ae"
            ],
            [
             0.3,
             "#f1b6da"
            ],
            [
             0.4,
             "#fde0ef"
            ],
            [
             0.5,
             "#f7f7f7"
            ],
            [
             0.6,
             "#e6f5d0"
            ],
            [
             0.7,
             "#b8e186"
            ],
            [
             0.8,
             "#7fbc41"
            ],
            [
             0.9,
             "#4d9221"
            ],
            [
             1,
             "#276419"
            ]
           ],
           "sequential": [
            [
             0,
             "#0d0887"
            ],
            [
             0.1111111111111111,
             "#46039f"
            ],
            [
             0.2222222222222222,
             "#7201a8"
            ],
            [
             0.3333333333333333,
             "#9c179e"
            ],
            [
             0.4444444444444444,
             "#bd3786"
            ],
            [
             0.5555555555555556,
             "#d8576b"
            ],
            [
             0.6666666666666666,
             "#ed7953"
            ],
            [
             0.7777777777777778,
             "#fb9f3a"
            ],
            [
             0.8888888888888888,
             "#fdca26"
            ],
            [
             1,
             "#f0f921"
            ]
           ],
           "sequentialminus": [
            [
             0,
             "#0d0887"
            ],
            [
             0.1111111111111111,
             "#46039f"
            ],
            [
             0.2222222222222222,
             "#7201a8"
            ],
            [
             0.3333333333333333,
             "#9c179e"
            ],
            [
             0.4444444444444444,
             "#bd3786"
            ],
            [
             0.5555555555555556,
             "#d8576b"
            ],
            [
             0.6666666666666666,
             "#ed7953"
            ],
            [
             0.7777777777777778,
             "#fb9f3a"
            ],
            [
             0.8888888888888888,
             "#fdca26"
            ],
            [
             1,
             "#f0f921"
            ]
           ]
          },
          "colorway": [
           "#636efa",
           "#EF553B",
           "#00cc96",
           "#ab63fa",
           "#FFA15A",
           "#19d3f3",
           "#FF6692",
           "#B6E880",
           "#FF97FF",
           "#FECB52"
          ],
          "font": {
           "color": "#2a3f5f"
          },
          "geo": {
           "bgcolor": "white",
           "lakecolor": "white",
           "landcolor": "#E5ECF6",
           "showlakes": true,
           "showland": true,
           "subunitcolor": "white"
          },
          "hoverlabel": {
           "align": "left"
          },
          "hovermode": "closest",
          "mapbox": {
           "style": "light"
          },
          "paper_bgcolor": "white",
          "plot_bgcolor": "#E5ECF6",
          "polar": {
           "angularaxis": {
            "gridcolor": "white",
            "linecolor": "white",
            "ticks": ""
           },
           "bgcolor": "#E5ECF6",
           "radialaxis": {
            "gridcolor": "white",
            "linecolor": "white",
            "ticks": ""
           }
          },
          "scene": {
           "xaxis": {
            "backgroundcolor": "#E5ECF6",
            "gridcolor": "white",
            "gridwidth": 2,
            "linecolor": "white",
            "showbackground": true,
            "ticks": "",
            "zerolinecolor": "white"
           },
           "yaxis": {
            "backgroundcolor": "#E5ECF6",
            "gridcolor": "white",
            "gridwidth": 2,
            "linecolor": "white",
            "showbackground": true,
            "ticks": "",
            "zerolinecolor": "white"
           },
           "zaxis": {
            "backgroundcolor": "#E5ECF6",
            "gridcolor": "white",
            "gridwidth": 2,
            "linecolor": "white",
            "showbackground": true,
            "ticks": "",
            "zerolinecolor": "white"
           }
          },
          "shapedefaults": {
           "line": {
            "color": "#2a3f5f"
           }
          },
          "ternary": {
           "aaxis": {
            "gridcolor": "white",
            "linecolor": "white",
            "ticks": ""
           },
           "baxis": {
            "gridcolor": "white",
            "linecolor": "white",
            "ticks": ""
           },
           "bgcolor": "#E5ECF6",
           "caxis": {
            "gridcolor": "white",
            "linecolor": "white",
            "ticks": ""
           }
          },
          "title": {
           "x": 0.05
          },
          "xaxis": {
           "automargin": true,
           "gridcolor": "white",
           "linecolor": "white",
           "ticks": "",
           "title": {
            "standoff": 15
           },
           "zerolinecolor": "white",
           "zerolinewidth": 2
          },
          "yaxis": {
           "automargin": true,
           "gridcolor": "white",
           "linecolor": "white",
           "ticks": "",
           "title": {
            "standoff": 15
           },
           "zerolinecolor": "white",
           "zerolinewidth": 2
          }
         }
        },
        "title": {
         "text": "Average CO2 Emissions Over Time by Country"
        },
        "updatemenus": [
         {
          "buttons": [
           {
            "args": [
             null,
             {
              "frame": {
               "duration": 500,
               "redraw": true
              },
              "fromcurrent": true
             }
            ],
            "label": "Play",
            "method": "animate"
           },
           {
            "args": [
             [
              null
             ],
             {
              "frame": {
               "duration": 0,
               "redraw": true
              },
              "mode": "immediate",
              "transition": {
               "duration": 0
              }
             }
            ],
            "label": "Pause",
            "method": "animate"
           }
          ],
          "direction": "left",
          "pad": {
           "r": 10,
           "t": 87
          },
          "showactive": false,
          "type": "buttons",
          "x": 0.1,
          "xanchor": "right",
          "y": 0,
          "yanchor": "top"
         }
        ],
        "width": 1200
       }
      }
     },
     "metadata": {},
     "output_type": "display_data"
    }
   ],
   "source": [
    "# Calculate average CO2 emissions per country per year\n",
    "climate_impact_df_avg = third_climate_df.groupby(['Country', 'Year'])['CO2_Emissions_MT'].mean().reset_index()\n",
    "\n",
    "# Sort the DataFrame by Year to ensure sequential display\n",
    "climate_impact_df_avg = climate_impact_df_avg.sort_values('Year')\n",
    "\n",
    "# Calculate the overall min and max values for CO2 emissions\n",
    "min_emissions = climate_impact_df_avg['CO2_Emissions_MT'].min()\n",
    "max_emissions = climate_impact_df_avg['CO2_Emissions_MT'].max()\n",
    "\n",
    "# Create a choropleth plot with time series and fixed color scale range\n",
    "fig = px.choropleth(\n",
    "    climate_impact_df_avg,\n",
    "    locations='Country', \n",
    "    locationmode='country names',\n",
    "    color='CO2_Emissions_MT',\n",
    "    hover_name='Country',\n",
    "    animation_frame='Year',\n",
    "    color_continuous_scale='Viridis_r',\n",
    "    range_color=[min_emissions, max_emissions],  # Set fixed range for color scale\n",
    "    projection='natural earth',\n",
    "    title='Average CO2 Emissions Over Time by Country'\n",
    ")\n",
    "\n",
    "# Update layout for better appearance\n",
    "fig.update_layout(\n",
    "    width=1200,\n",
    "    height=800,\n",
    "    coloraxis_colorbar=dict(\n",
    "        title=\"Average CO2 Emissions (Mt)\",\n",
    "    ),\n",
    "    updatemenus=[{\n",
    "        'buttons': [\n",
    "            {\n",
    "                'args': [None, {'frame': {'duration': 500, 'redraw': True}, 'fromcurrent': True}],\n",
    "                'label': 'Play',\n",
    "                'method': 'animate'\n",
    "            },\n",
    "            {\n",
    "                'args': [[None], {'frame': {'duration': 0, 'redraw': True}, 'mode': 'immediate', 'transition': {'duration': 0}}],\n",
    "                'label': 'Pause',\n",
    "                'method': 'animate'\n",
    "            }\n",
    "        ],\n",
    "        'direction': 'left',\n",
    "        'pad': {'r': 10, 't': 87},\n",
    "        'showactive': False,\n",
    "        'type': 'buttons',\n",
    "        'x': 0.1,\n",
    "        'xanchor': 'right',\n",
    "        'y': 0,\n",
    "        'yanchor': 'top'\n",
    "    }]\n",
    ")\n",
    "\n",
    "# Add slider\n",
    "fig.update_layout(\n",
    "    sliders=[{\n",
    "        'active': 0,\n",
    "        'yanchor': 'top',\n",
    "        'xanchor': 'left',\n",
    "        'currentvalue': {\n",
    "            'font': {'size': 20},\n",
    "            'prefix': 'Year:',\n",
    "            'visible': True,\n",
    "            'xanchor': 'right'\n",
    "        },\n",
    "        'transition': {'duration': 300, 'easing': 'cubic-in-out'},\n",
    "        'pad': {'b': 10, 't': 50},\n",
    "        'len': 0.9,\n",
    "        'x': 0.1,\n",
    "        'y': 0,\n",
    "        'steps': [\n",
    "            {\n",
    "                'args': [[f'{year}'], {\n",
    "                    'frame': {'duration': 300, 'redraw': True},\n",
    "                    'mode': 'immediate',\n",
    "                    'transition': {'duration': 300}\n",
    "                }],\n",
    "                'label': f'{year}',\n",
    "                'method': 'animate'\n",
    "            } for year in climate_impact_df_avg['Year'].unique()\n",
    "        ]\n",
    "    }]\n",
    ")\n",
    "\n",
    "# Show the plot\n",
    "fig.show()"
   ]
  },
  {
   "cell_type": "markdown",
   "metadata": {},
   "source": [
    "The animation is working properly, hoewever there are no clear trends. Maybe looking a a line graph could help explain the visuals."
   ]
  },
  {
   "cell_type": "code",
   "execution_count": 46,
   "metadata": {},
   "outputs": [
    {
     "data": {
      "application/vnd.plotly.v1+json": {
       "config": {
        "plotlyServerURL": "https://plot.ly"
       },
       "data": [
        {
         "hovertemplate": "Country=Argentina<br>Year=%{x}<br>CO2 Emissions (Mt)=%{y}<extra></extra>",
         "legendgroup": "Argentina",
         "line": {
          "color": "#636efa",
          "dash": "solid"
         },
         "marker": {
          "symbol": "circle"
         },
         "mode": "lines",
         "name": "Argentina",
         "orientation": "v",
         "showlegend": true,
         "type": "scatter",
         "x": [
          1990,
          1991,
          1992,
          1993,
          1994,
          1995,
          1996,
          1997,
          1998,
          1999,
          2000,
          2001,
          2002,
          2003,
          2004,
          2005,
          2006,
          2007,
          2008,
          2009,
          2010,
          2011,
          2012,
          2013,
          2014,
          2015,
          2016,
          2017,
          2018,
          2019,
          2020,
          2021,
          2022,
          2023,
          2024
         ],
         "xaxis": "x",
         "y": [
          16.1204,
          15.547297297297296,
          15.325416666666667,
          14.518947368421053,
          16.1804,
          13.3804,
          16.834047619047617,
          14.612666666666666,
          13.0525,
          15.576363636363636,
          16.25,
          15.785925925925927,
          12.987407407407408,
          15.602,
          17.958666666666666,
          16.818064516129034,
          13.477037037037038,
          16.238518518518518,
          16.905625,
          15.74962962962963,
          13.817333333333332,
          15.731428571428571,
          13.813333333333333,
          16.765333333333334,
          18.01529411764706,
          13.840769230769231,
          13.8525,
          14.7228125,
          12.904166666666667,
          14.78842105263158,
          15.694137931034483,
          14.945,
          14.692857142857141,
          17.71,
          15.108076923076924
         ],
         "yaxis": "y"
        },
        {
         "hovertemplate": "Country=India<br>Year=%{x}<br>CO2 Emissions (Mt)=%{y}<extra></extra>",
         "legendgroup": "India",
         "line": {
          "color": "#EF553B",
          "dash": "solid"
         },
         "marker": {
          "symbol": "circle"
         },
         "mode": "lines",
         "name": "India",
         "orientation": "v",
         "showlegend": true,
         "type": "scatter",
         "x": [
          1990,
          1991,
          1992,
          1993,
          1994,
          1995,
          1996,
          1997,
          1998,
          1999,
          2000,
          2001,
          2002,
          2003,
          2004,
          2005,
          2006,
          2007,
          2008,
          2009,
          2010,
          2011,
          2012,
          2013,
          2014,
          2015,
          2016,
          2017,
          2018,
          2019,
          2020,
          2021,
          2022,
          2023,
          2024
         ],
         "xaxis": "x",
         "y": [
          11.953333333333333,
          16.972941176470588,
          15.193529411764708,
          15.060588235294116,
          16.200476190476188,
          13.303448275862069,
          13.373571428571427,
          14.486428571428572,
          15.26939393939394,
          16.747096774193547,
          17.36357142857143,
          16.594545454545454,
          15.897307692307692,
          16.94892857142857,
          15.131590909090908,
          15.66925925925926,
          14.674999999999999,
          12.75357142857143,
          15.826896551724138,
          15.002777777777778,
          15.717916666666667,
          16.07892857142857,
          13.311351351351352,
          15.555294117647058,
          11.565666666666665,
          12.3325,
          15.852666666666666,
          17.958399999999997,
          16.4145,
          14.034210526315789,
          13.320000000000002,
          14.909375,
          15.856451612903227,
          15.058055555555557,
          14.903703703703705
         ],
         "yaxis": "y"
        },
        {
         "hovertemplate": "Country=France<br>Year=%{x}<br>CO2 Emissions (Mt)=%{y}<extra></extra>",
         "legendgroup": "France",
         "line": {
          "color": "#00cc96",
          "dash": "solid"
         },
         "marker": {
          "symbol": "circle"
         },
         "mode": "lines",
         "name": "France",
         "orientation": "v",
         "showlegend": true,
         "type": "scatter",
         "x": [
          1990,
          1991,
          1992,
          1993,
          1994,
          1995,
          1996,
          1997,
          1998,
          1999,
          2000,
          2001,
          2002,
          2003,
          2004,
          2005,
          2006,
          2007,
          2008,
          2009,
          2010,
          2011,
          2012,
          2013,
          2014,
          2015,
          2016,
          2017,
          2018,
          2019,
          2020,
          2021,
          2022,
          2023,
          2024
         ],
         "xaxis": "x",
         "y": [
          17.36916666666667,
          16.549032258064514,
          14.596153846153847,
          14.338214285714287,
          16.75722222222222,
          18.431764705882355,
          14.19,
          15.824827586206897,
          15.297222222222224,
          17.767222222222223,
          15.165,
          16.96764705882353,
          15.171842105263158,
          13.335666666666667,
          13.538918918918919,
          18.196315789473687,
          13.4025,
          16.249310344827588,
          13.842,
          15.844827586206897,
          13.885483870967741,
          19.056874999999998,
          14.808064516129033,
          15.80375,
          16.4972,
          12.528888888888888,
          15.052857142857144,
          12.544827586206896,
          16.83586206896552,
          12.760000000000002,
          15.825294117647061,
          16.913225806451614,
          14.694857142857144,
          17.56357142857143,
          17.246538461538464
         ],
         "yaxis": "y"
        },
        {
         "hovertemplate": "Country=Russia<br>Year=%{x}<br>CO2 Emissions (Mt)=%{y}<extra></extra>",
         "legendgroup": "Russia",
         "line": {
          "color": "#ab63fa",
          "dash": "solid"
         },
         "marker": {
          "symbol": "circle"
         },
         "mode": "lines",
         "name": "Russia",
         "orientation": "v",
         "showlegend": true,
         "type": "scatter",
         "x": [
          1990,
          1991,
          1992,
          1993,
          1994,
          1995,
          1996,
          1997,
          1998,
          1999,
          2000,
          2001,
          2002,
          2003,
          2004,
          2005,
          2006,
          2007,
          2008,
          2009,
          2010,
          2011,
          2012,
          2013,
          2014,
          2015,
          2016,
          2017,
          2018,
          2019,
          2020,
          2021,
          2022,
          2023,
          2024
         ],
         "xaxis": "x",
         "y": [
          17.05941176470588,
          14.2225,
          16.033703703703704,
          15.815217391304348,
          16.939999999999998,
          15.776666666666667,
          16.271875,
          14.992857142857144,
          14.624583333333334,
          15.538181818181817,
          15.510666666666667,
          18.740000000000002,
          15.0084,
          14.44814814814815,
          13.42,
          14.324782608695653,
          11.953125,
          15.68,
          13.788620689655172,
          14.258064516129032,
          17.425945945945944,
          11.51969696969697,
          14.538518518518519,
          13.455666666666668,
          11.695238095238095,
          17.023214285714285,
          16.800434782608693,
          17.38142857142857,
          14.5875,
          16.671714285714284,
          17.227619047619047,
          15.851851851851851,
          14.478695652173913,
          13.552333333333333,
          14.443846153846154
         ],
         "yaxis": "y"
        },
        {
         "hovertemplate": "Country=China<br>Year=%{x}<br>CO2 Emissions (Mt)=%{y}<extra></extra>",
         "legendgroup": "China",
         "line": {
          "color": "#FFA15A",
          "dash": "solid"
         },
         "marker": {
          "symbol": "circle"
         },
         "mode": "lines",
         "name": "China",
         "orientation": "v",
         "showlegend": true,
         "type": "scatter",
         "x": [
          1990,
          1991,
          1992,
          1993,
          1994,
          1995,
          1996,
          1997,
          1998,
          1999,
          2000,
          2001,
          2002,
          2003,
          2004,
          2005,
          2006,
          2007,
          2008,
          2009,
          2010,
          2011,
          2012,
          2013,
          2014,
          2015,
          2016,
          2017,
          2018,
          2019,
          2020,
          2021,
          2022,
          2023,
          2024
         ],
         "xaxis": "x",
         "y": [
          15.48967741935484,
          16.205,
          13.798800000000002,
          16.221600000000002,
          14.6009375,
          15.8388,
          15.837142857142856,
          14.979000000000001,
          13.456818181818182,
          15.514545454545456,
          18.11205882352941,
          14.488709677419354,
          12.633750000000001,
          13.223437500000001,
          12.920399999999999,
          12.485,
          13.625357142857142,
          13.797272727272727,
          15.259729729729731,
          13.7148,
          16.11470588235294,
          17.593809523809526,
          14.722439024390244,
          14.171904761904763,
          14.247142857142856,
          16.983125,
          12.835588235294116,
          14.427272727272726,
          17.15911764705882,
          16.813888888888886,
          15.82763157894737,
          15.108461538461539,
          17.212692307692308,
          15.944444444444445,
          13.345454545454546
         ],
         "yaxis": "y"
        },
        {
         "hovertemplate": "Country=Canada<br>Year=%{x}<br>CO2 Emissions (Mt)=%{y}<extra></extra>",
         "legendgroup": "Canada",
         "line": {
          "color": "#19d3f3",
          "dash": "solid"
         },
         "marker": {
          "symbol": "circle"
         },
         "mode": "lines",
         "name": "Canada",
         "orientation": "v",
         "showlegend": true,
         "type": "scatter",
         "x": [
          1990,
          1991,
          1992,
          1993,
          1994,
          1995,
          1996,
          1997,
          1998,
          1999,
          2000,
          2001,
          2002,
          2003,
          2004,
          2005,
          2006,
          2007,
          2008,
          2009,
          2010,
          2011,
          2012,
          2013,
          2014,
          2015,
          2016,
          2017,
          2018,
          2019,
          2020,
          2021,
          2022,
          2023,
          2024
         ],
         "xaxis": "x",
         "y": [
          12.760370370370369,
          13.16,
          16.7424,
          16.51086956521739,
          17.165,
          17.825,
          17.348157894736843,
          14.216999999999999,
          15.365625,
          16.706875,
          15.644242424242425,
          16.862592592592595,
          12.094736842105263,
          17.582105263157896,
          14.964074074074073,
          16.604583333333334,
          15.773809523809524,
          16.772727272727273,
          15.408846153846154,
          16.66756756756757,
          15.824333333333334,
          15.030344827586207,
          16.923333333333332,
          14.422592592592594,
          13.701724137931036,
          15.844166666666666,
          15.849,
          15.591304347826087,
          18.92233333333333,
          16.367878787878787,
          15.44086956521739,
          11.990833333333335,
          16.0204,
          14.573030303030302,
          14.87148148148148
         ],
         "yaxis": "y"
        },
        {
         "hovertemplate": "Country=USA<br>Year=%{x}<br>CO2 Emissions (Mt)=%{y}<extra></extra>",
         "legendgroup": "USA",
         "line": {
          "color": "#FF6692",
          "dash": "solid"
         },
         "marker": {
          "symbol": "circle"
         },
         "mode": "lines",
         "name": "USA",
         "orientation": "v",
         "showlegend": true,
         "type": "scatter",
         "x": [
          1990,
          1991,
          1992,
          1993,
          1994,
          1995,
          1996,
          1997,
          1998,
          1999,
          2000,
          2001,
          2002,
          2003,
          2004,
          2005,
          2006,
          2007,
          2008,
          2009,
          2010,
          2011,
          2012,
          2013,
          2014,
          2015,
          2016,
          2017,
          2018,
          2019,
          2020,
          2021,
          2022,
          2023,
          2024
         ],
         "xaxis": "x",
         "y": [
          15.04,
          19.3915625,
          11.881,
          12.894193548387097,
          17.486,
          15.743809523809524,
          14.7196,
          13.552121212121213,
          14.793793103448275,
          15.37625,
          18.805,
          17.779677419354837,
          13.777241379310345,
          15.499666666666666,
          13.504666666666667,
          18.124193548387098,
          15.23551724137931,
          14.716111111111111,
          11.671600000000002,
          14.196774193548388,
          16.213461538461537,
          16.58375,
          16.116363636363637,
          14.945641025641025,
          13.758095238095239,
          14.178863636363637,
          15.6476,
          13.465789473684211,
          15.644137931034482,
          17.10516129032258,
          15.41741935483871,
          13.761612903225807,
          17.217142857142857,
          13.312222222222223,
          17.40108108108108
         ],
         "yaxis": "y"
        },
        {
         "hovertemplate": "Country=Brazil<br>Year=%{x}<br>CO2 Emissions (Mt)=%{y}<extra></extra>",
         "legendgroup": "Brazil",
         "line": {
          "color": "#B6E880",
          "dash": "solid"
         },
         "marker": {
          "symbol": "circle"
         },
         "mode": "lines",
         "name": "Brazil",
         "orientation": "v",
         "showlegend": true,
         "type": "scatter",
         "x": [
          1990,
          1991,
          1992,
          1993,
          1994,
          1995,
          1996,
          1997,
          1998,
          1999,
          2000,
          2001,
          2002,
          2003,
          2004,
          2005,
          2006,
          2007,
          2008,
          2009,
          2010,
          2011,
          2012,
          2013,
          2014,
          2015,
          2016,
          2017,
          2018,
          2019,
          2020,
          2021,
          2022,
          2023,
          2024
         ],
         "xaxis": "x",
         "y": [
          13.542352941176471,
          13.195185185185185,
          15.006923076923076,
          15.52111111111111,
          14.004827586206897,
          15.579062500000001,
          12.965806451612902,
          16.837500000000002,
          11.5624,
          15.791111111111112,
          14.75551724137931,
          16.10576923076923,
          14.317857142857141,
          11.385357142857144,
          15.398695652173913,
          16.364642857142858,
          14.0212,
          16.28058823529412,
          13.119499999999999,
          18.311333333333334,
          13.615172413793102,
          17.328235294117647,
          16.618965517241378,
          16.6221875,
          12.601176470588236,
          15.247666666666667,
          16.53290322580645,
          12.75,
          16.39391304347826,
          15.776153846153846,
          17.4316,
          15.972285714285713,
          13.5876,
          15.645714285714286,
          13.6
         ],
         "yaxis": "y"
        },
        {
         "hovertemplate": "Country=Australia<br>Year=%{x}<br>CO2 Emissions (Mt)=%{y}<extra></extra>",
         "legendgroup": "Australia",
         "line": {
          "color": "#FF97FF",
          "dash": "solid"
         },
         "marker": {
          "symbol": "circle"
         },
         "mode": "lines",
         "name": "Australia",
         "orientation": "v",
         "showlegend": true,
         "type": "scatter",
         "x": [
          1990,
          1991,
          1992,
          1993,
          1994,
          1995,
          1996,
          1997,
          1998,
          1999,
          2000,
          2001,
          2002,
          2003,
          2004,
          2005,
          2006,
          2007,
          2008,
          2009,
          2010,
          2011,
          2012,
          2013,
          2014,
          2015,
          2016,
          2017,
          2018,
          2019,
          2020,
          2021,
          2022,
          2023,
          2024
         ],
         "xaxis": "x",
         "y": [
          15.638148148148149,
          13.926153846153845,
          13.959677419354838,
          16.084545454545452,
          15.429411764705883,
          17.088076923076922,
          17.50558823529412,
          15.024687499999999,
          17.642307692307693,
          14.072727272727272,
          17.719047619047622,
          16.6327027027027,
          15.445714285714287,
          15.24,
          16.28787878787879,
          14.770357142857142,
          17.116666666666667,
          16.771379310344827,
          14.096857142857143,
          14.032608695652174,
          16.830000000000002,
          12.633333333333333,
          14.119210526315788,
          14.648846153846154,
          15.627073170731709,
          15.581538461538461,
          16.531153846153845,
          13.883333333333333,
          14.20590909090909,
          17.48357142857143,
          14.257037037037037,
          14.852121212121212,
          13.1075,
          13.956551724137931,
          17.073333333333334
         ],
         "yaxis": "y"
        },
        {
         "hovertemplate": "Country=Nigeria<br>Year=%{x}<br>CO2 Emissions (Mt)=%{y}<extra></extra>",
         "legendgroup": "Nigeria",
         "line": {
          "color": "#FECB52",
          "dash": "solid"
         },
         "marker": {
          "symbol": "circle"
         },
         "mode": "lines",
         "name": "Nigeria",
         "orientation": "v",
         "showlegend": true,
         "type": "scatter",
         "x": [
          1990,
          1991,
          1992,
          1993,
          1994,
          1995,
          1996,
          1997,
          1998,
          1999,
          2000,
          2001,
          2002,
          2003,
          2004,
          2005,
          2006,
          2007,
          2008,
          2009,
          2010,
          2011,
          2012,
          2013,
          2014,
          2015,
          2016,
          2017,
          2018,
          2019,
          2020,
          2021,
          2022,
          2023,
          2024
         ],
         "xaxis": "x",
         "y": [
          12.88576923076923,
          13.710666666666667,
          15.591944444444445,
          13.113181818181818,
          13.903714285714285,
          16.074193548387097,
          16.80909090909091,
          15.317142857142859,
          17.11909090909091,
          14.383333333333333,
          14.316666666666666,
          15.001785714285715,
          15.6604,
          14.486571428571429,
          15.522,
          15.623750000000001,
          12.462608695652174,
          18.768,
          15.169333333333332,
          13.656451612903227,
          13.621923076923078,
          14.123461538461537,
          17.09423076923077,
          15.819411764705883,
          13.564285714285715,
          13.303783783783784,
          14.567555555555554,
          15.965,
          15.684827586206897,
          16.615172413793104,
          15.86344827586207,
          14.709999999999999,
          13.243870967741936,
          15.151212121212122,
          14.333461538461538
         ],
         "yaxis": "y"
        }
       ],
       "layout": {
        "legend": {
         "title": {
          "text": "Country"
         },
         "tracegroupgap": 0
        },
        "template": {
         "data": {
          "bar": [
           {
            "error_x": {
             "color": "#2a3f5f"
            },
            "error_y": {
             "color": "#2a3f5f"
            },
            "marker": {
             "line": {
              "color": "#E5ECF6",
              "width": 0.5
             },
             "pattern": {
              "fillmode": "overlay",
              "size": 10,
              "solidity": 0.2
             }
            },
            "type": "bar"
           }
          ],
          "barpolar": [
           {
            "marker": {
             "line": {
              "color": "#E5ECF6",
              "width": 0.5
             },
             "pattern": {
              "fillmode": "overlay",
              "size": 10,
              "solidity": 0.2
             }
            },
            "type": "barpolar"
           }
          ],
          "carpet": [
           {
            "aaxis": {
             "endlinecolor": "#2a3f5f",
             "gridcolor": "white",
             "linecolor": "white",
             "minorgridcolor": "white",
             "startlinecolor": "#2a3f5f"
            },
            "baxis": {
             "endlinecolor": "#2a3f5f",
             "gridcolor": "white",
             "linecolor": "white",
             "minorgridcolor": "white",
             "startlinecolor": "#2a3f5f"
            },
            "type": "carpet"
           }
          ],
          "choropleth": [
           {
            "colorbar": {
             "outlinewidth": 0,
             "ticks": ""
            },
            "type": "choropleth"
           }
          ],
          "contour": [
           {
            "colorbar": {
             "outlinewidth": 0,
             "ticks": ""
            },
            "colorscale": [
             [
              0,
              "#0d0887"
             ],
             [
              0.1111111111111111,
              "#46039f"
             ],
             [
              0.2222222222222222,
              "#7201a8"
             ],
             [
              0.3333333333333333,
              "#9c179e"
             ],
             [
              0.4444444444444444,
              "#bd3786"
             ],
             [
              0.5555555555555556,
              "#d8576b"
             ],
             [
              0.6666666666666666,
              "#ed7953"
             ],
             [
              0.7777777777777778,
              "#fb9f3a"
             ],
             [
              0.8888888888888888,
              "#fdca26"
             ],
             [
              1,
              "#f0f921"
             ]
            ],
            "type": "contour"
           }
          ],
          "contourcarpet": [
           {
            "colorbar": {
             "outlinewidth": 0,
             "ticks": ""
            },
            "type": "contourcarpet"
           }
          ],
          "heatmap": [
           {
            "colorbar": {
             "outlinewidth": 0,
             "ticks": ""
            },
            "colorscale": [
             [
              0,
              "#0d0887"
             ],
             [
              0.1111111111111111,
              "#46039f"
             ],
             [
              0.2222222222222222,
              "#7201a8"
             ],
             [
              0.3333333333333333,
              "#9c179e"
             ],
             [
              0.4444444444444444,
              "#bd3786"
             ],
             [
              0.5555555555555556,
              "#d8576b"
             ],
             [
              0.6666666666666666,
              "#ed7953"
             ],
             [
              0.7777777777777778,
              "#fb9f3a"
             ],
             [
              0.8888888888888888,
              "#fdca26"
             ],
             [
              1,
              "#f0f921"
             ]
            ],
            "type": "heatmap"
           }
          ],
          "heatmapgl": [
           {
            "colorbar": {
             "outlinewidth": 0,
             "ticks": ""
            },
            "colorscale": [
             [
              0,
              "#0d0887"
             ],
             [
              0.1111111111111111,
              "#46039f"
             ],
             [
              0.2222222222222222,
              "#7201a8"
             ],
             [
              0.3333333333333333,
              "#9c179e"
             ],
             [
              0.4444444444444444,
              "#bd3786"
             ],
             [
              0.5555555555555556,
              "#d8576b"
             ],
             [
              0.6666666666666666,
              "#ed7953"
             ],
             [
              0.7777777777777778,
              "#fb9f3a"
             ],
             [
              0.8888888888888888,
              "#fdca26"
             ],
             [
              1,
              "#f0f921"
             ]
            ],
            "type": "heatmapgl"
           }
          ],
          "histogram": [
           {
            "marker": {
             "pattern": {
              "fillmode": "overlay",
              "size": 10,
              "solidity": 0.2
             }
            },
            "type": "histogram"
           }
          ],
          "histogram2d": [
           {
            "colorbar": {
             "outlinewidth": 0,
             "ticks": ""
            },
            "colorscale": [
             [
              0,
              "#0d0887"
             ],
             [
              0.1111111111111111,
              "#46039f"
             ],
             [
              0.2222222222222222,
              "#7201a8"
             ],
             [
              0.3333333333333333,
              "#9c179e"
             ],
             [
              0.4444444444444444,
              "#bd3786"
             ],
             [
              0.5555555555555556,
              "#d8576b"
             ],
             [
              0.6666666666666666,
              "#ed7953"
             ],
             [
              0.7777777777777778,
              "#fb9f3a"
             ],
             [
              0.8888888888888888,
              "#fdca26"
             ],
             [
              1,
              "#f0f921"
             ]
            ],
            "type": "histogram2d"
           }
          ],
          "histogram2dcontour": [
           {
            "colorbar": {
             "outlinewidth": 0,
             "ticks": ""
            },
            "colorscale": [
             [
              0,
              "#0d0887"
             ],
             [
              0.1111111111111111,
              "#46039f"
             ],
             [
              0.2222222222222222,
              "#7201a8"
             ],
             [
              0.3333333333333333,
              "#9c179e"
             ],
             [
              0.4444444444444444,
              "#bd3786"
             ],
             [
              0.5555555555555556,
              "#d8576b"
             ],
             [
              0.6666666666666666,
              "#ed7953"
             ],
             [
              0.7777777777777778,
              "#fb9f3a"
             ],
             [
              0.8888888888888888,
              "#fdca26"
             ],
             [
              1,
              "#f0f921"
             ]
            ],
            "type": "histogram2dcontour"
           }
          ],
          "mesh3d": [
           {
            "colorbar": {
             "outlinewidth": 0,
             "ticks": ""
            },
            "type": "mesh3d"
           }
          ],
          "parcoords": [
           {
            "line": {
             "colorbar": {
              "outlinewidth": 0,
              "ticks": ""
             }
            },
            "type": "parcoords"
           }
          ],
          "pie": [
           {
            "automargin": true,
            "type": "pie"
           }
          ],
          "scatter": [
           {
            "fillpattern": {
             "fillmode": "overlay",
             "size": 10,
             "solidity": 0.2
            },
            "type": "scatter"
           }
          ],
          "scatter3d": [
           {
            "line": {
             "colorbar": {
              "outlinewidth": 0,
              "ticks": ""
             }
            },
            "marker": {
             "colorbar": {
              "outlinewidth": 0,
              "ticks": ""
             }
            },
            "type": "scatter3d"
           }
          ],
          "scattercarpet": [
           {
            "marker": {
             "colorbar": {
              "outlinewidth": 0,
              "ticks": ""
             }
            },
            "type": "scattercarpet"
           }
          ],
          "scattergeo": [
           {
            "marker": {
             "colorbar": {
              "outlinewidth": 0,
              "ticks": ""
             }
            },
            "type": "scattergeo"
           }
          ],
          "scattergl": [
           {
            "marker": {
             "colorbar": {
              "outlinewidth": 0,
              "ticks": ""
             }
            },
            "type": "scattergl"
           }
          ],
          "scattermapbox": [
           {
            "marker": {
             "colorbar": {
              "outlinewidth": 0,
              "ticks": ""
             }
            },
            "type": "scattermapbox"
           }
          ],
          "scatterpolar": [
           {
            "marker": {
             "colorbar": {
              "outlinewidth": 0,
              "ticks": ""
             }
            },
            "type": "scatterpolar"
           }
          ],
          "scatterpolargl": [
           {
            "marker": {
             "colorbar": {
              "outlinewidth": 0,
              "ticks": ""
             }
            },
            "type": "scatterpolargl"
           }
          ],
          "scatterternary": [
           {
            "marker": {
             "colorbar": {
              "outlinewidth": 0,
              "ticks": ""
             }
            },
            "type": "scatterternary"
           }
          ],
          "surface": [
           {
            "colorbar": {
             "outlinewidth": 0,
             "ticks": ""
            },
            "colorscale": [
             [
              0,
              "#0d0887"
             ],
             [
              0.1111111111111111,
              "#46039f"
             ],
             [
              0.2222222222222222,
              "#7201a8"
             ],
             [
              0.3333333333333333,
              "#9c179e"
             ],
             [
              0.4444444444444444,
              "#bd3786"
             ],
             [
              0.5555555555555556,
              "#d8576b"
             ],
             [
              0.6666666666666666,
              "#ed7953"
             ],
             [
              0.7777777777777778,
              "#fb9f3a"
             ],
             [
              0.8888888888888888,
              "#fdca26"
             ],
             [
              1,
              "#f0f921"
             ]
            ],
            "type": "surface"
           }
          ],
          "table": [
           {
            "cells": {
             "fill": {
              "color": "#EBF0F8"
             },
             "line": {
              "color": "white"
             }
            },
            "header": {
             "fill": {
              "color": "#C8D4E3"
             },
             "line": {
              "color": "white"
             }
            },
            "type": "table"
           }
          ]
         },
         "layout": {
          "annotationdefaults": {
           "arrowcolor": "#2a3f5f",
           "arrowhead": 0,
           "arrowwidth": 1
          },
          "autotypenumbers": "strict",
          "coloraxis": {
           "colorbar": {
            "outlinewidth": 0,
            "ticks": ""
           }
          },
          "colorscale": {
           "diverging": [
            [
             0,
             "#8e0152"
            ],
            [
             0.1,
             "#c51b7d"
            ],
            [
             0.2,
             "#de77ae"
            ],
            [
             0.3,
             "#f1b6da"
            ],
            [
             0.4,
             "#fde0ef"
            ],
            [
             0.5,
             "#f7f7f7"
            ],
            [
             0.6,
             "#e6f5d0"
            ],
            [
             0.7,
             "#b8e186"
            ],
            [
             0.8,
             "#7fbc41"
            ],
            [
             0.9,
             "#4d9221"
            ],
            [
             1,
             "#276419"
            ]
           ],
           "sequential": [
            [
             0,
             "#0d0887"
            ],
            [
             0.1111111111111111,
             "#46039f"
            ],
            [
             0.2222222222222222,
             "#7201a8"
            ],
            [
             0.3333333333333333,
             "#9c179e"
            ],
            [
             0.4444444444444444,
             "#bd3786"
            ],
            [
             0.5555555555555556,
             "#d8576b"
            ],
            [
             0.6666666666666666,
             "#ed7953"
            ],
            [
             0.7777777777777778,
             "#fb9f3a"
            ],
            [
             0.8888888888888888,
             "#fdca26"
            ],
            [
             1,
             "#f0f921"
            ]
           ],
           "sequentialminus": [
            [
             0,
             "#0d0887"
            ],
            [
             0.1111111111111111,
             "#46039f"
            ],
            [
             0.2222222222222222,
             "#7201a8"
            ],
            [
             0.3333333333333333,
             "#9c179e"
            ],
            [
             0.4444444444444444,
             "#bd3786"
            ],
            [
             0.5555555555555556,
             "#d8576b"
            ],
            [
             0.6666666666666666,
             "#ed7953"
            ],
            [
             0.7777777777777778,
             "#fb9f3a"
            ],
            [
             0.8888888888888888,
             "#fdca26"
            ],
            [
             1,
             "#f0f921"
            ]
           ]
          },
          "colorway": [
           "#636efa",
           "#EF553B",
           "#00cc96",
           "#ab63fa",
           "#FFA15A",
           "#19d3f3",
           "#FF6692",
           "#B6E880",
           "#FF97FF",
           "#FECB52"
          ],
          "font": {
           "color": "#2a3f5f"
          },
          "geo": {
           "bgcolor": "white",
           "lakecolor": "white",
           "landcolor": "#E5ECF6",
           "showlakes": true,
           "showland": true,
           "subunitcolor": "white"
          },
          "hoverlabel": {
           "align": "left"
          },
          "hovermode": "closest",
          "mapbox": {
           "style": "light"
          },
          "paper_bgcolor": "white",
          "plot_bgcolor": "#E5ECF6",
          "polar": {
           "angularaxis": {
            "gridcolor": "white",
            "linecolor": "white",
            "ticks": ""
           },
           "bgcolor": "#E5ECF6",
           "radialaxis": {
            "gridcolor": "white",
            "linecolor": "white",
            "ticks": ""
           }
          },
          "scene": {
           "xaxis": {
            "backgroundcolor": "#E5ECF6",
            "gridcolor": "white",
            "gridwidth": 2,
            "linecolor": "white",
            "showbackground": true,
            "ticks": "",
            "zerolinecolor": "white"
           },
           "yaxis": {
            "backgroundcolor": "#E5ECF6",
            "gridcolor": "white",
            "gridwidth": 2,
            "linecolor": "white",
            "showbackground": true,
            "ticks": "",
            "zerolinecolor": "white"
           },
           "zaxis": {
            "backgroundcolor": "#E5ECF6",
            "gridcolor": "white",
            "gridwidth": 2,
            "linecolor": "white",
            "showbackground": true,
            "ticks": "",
            "zerolinecolor": "white"
           }
          },
          "shapedefaults": {
           "line": {
            "color": "#2a3f5f"
           }
          },
          "ternary": {
           "aaxis": {
            "gridcolor": "white",
            "linecolor": "white",
            "ticks": ""
           },
           "baxis": {
            "gridcolor": "white",
            "linecolor": "white",
            "ticks": ""
           },
           "bgcolor": "#E5ECF6",
           "caxis": {
            "gridcolor": "white",
            "linecolor": "white",
            "ticks": ""
           }
          },
          "title": {
           "x": 0.05
          },
          "xaxis": {
           "automargin": true,
           "gridcolor": "white",
           "linecolor": "white",
           "ticks": "",
           "title": {
            "standoff": 15
           },
           "zerolinecolor": "white",
           "zerolinewidth": 2
          },
          "yaxis": {
           "automargin": true,
           "gridcolor": "white",
           "linecolor": "white",
           "ticks": "",
           "title": {
            "standoff": 15
           },
           "zerolinecolor": "white",
           "zerolinewidth": 2
          }
         }
        },
        "title": {
         "text": "Average CO2 Emissions by Country Over Time"
        },
        "updatemenus": [
         {
          "buttons": [
           {
            "args": [
             {
              "visible": [
               true,
               false,
               false,
               false,
               false,
               false,
               false,
               false,
               false,
               false
              ]
             }
            ],
            "label": "Argentina",
            "method": "update"
           },
           {
            "args": [
             {
              "visible": [
               false,
               true,
               false,
               false,
               false,
               false,
               false,
               false,
               false,
               false
              ]
             }
            ],
            "label": "India",
            "method": "update"
           },
           {
            "args": [
             {
              "visible": [
               false,
               false,
               true,
               false,
               false,
               false,
               false,
               false,
               false,
               false
              ]
             }
            ],
            "label": "France",
            "method": "update"
           },
           {
            "args": [
             {
              "visible": [
               false,
               false,
               false,
               true,
               false,
               false,
               false,
               false,
               false,
               false
              ]
             }
            ],
            "label": "Russia",
            "method": "update"
           },
           {
            "args": [
             {
              "visible": [
               false,
               false,
               false,
               false,
               true,
               false,
               false,
               false,
               false,
               false
              ]
             }
            ],
            "label": "China",
            "method": "update"
           },
           {
            "args": [
             {
              "visible": [
               false,
               false,
               false,
               false,
               false,
               true,
               false,
               false,
               false,
               false
              ]
             }
            ],
            "label": "Canada",
            "method": "update"
           },
           {
            "args": [
             {
              "visible": [
               false,
               false,
               false,
               false,
               false,
               false,
               true,
               false,
               false,
               false
              ]
             }
            ],
            "label": "USA",
            "method": "update"
           },
           {
            "args": [
             {
              "visible": [
               false,
               false,
               false,
               false,
               false,
               false,
               false,
               true,
               false,
               false
              ]
             }
            ],
            "label": "Brazil",
            "method": "update"
           },
           {
            "args": [
             {
              "visible": [
               false,
               false,
               false,
               false,
               false,
               false,
               false,
               false,
               true,
               false
              ]
             }
            ],
            "label": "Australia",
            "method": "update"
           },
           {
            "args": [
             {
              "visible": [
               false,
               false,
               false,
               false,
               false,
               false,
               false,
               false,
               false,
               true
              ]
             }
            ],
            "label": "Nigeria",
            "method": "update"
           }
          ],
          "direction": "down",
          "showactive": true,
          "x": 0.1,
          "xanchor": "left",
          "y": 1.15,
          "yanchor": "top"
         }
        ],
        "xaxis": {
         "anchor": "y",
         "domain": [
          0,
          1
         ],
         "title": {
          "text": "Year"
         }
        },
        "yaxis": {
         "anchor": "x",
         "domain": [
          0,
          1
         ],
         "title": {
          "text": "CO2 Emissions (Mt)"
         }
        }
       }
      }
     },
     "metadata": {},
     "output_type": "display_data"
    }
   ],
   "source": [
    "import plotly.express as px\n",
    "import pandas as pd\n",
    "\n",
    "# Calculate average CO2 emissions per country per year\n",
    "climate_impact_df_avg = third_climate_df.groupby(['Country', 'Year'])['CO2_Emissions_MT'].mean().reset_index()\n",
    "\n",
    "# Sort the DataFrame by Year to ensure sequential display\n",
    "climate_impact_df_avg = climate_impact_df_avg.sort_values('Year')\n",
    "\n",
    "# Create a line chart with CO2 emissions over time\n",
    "fig = px.line(\n",
    "    climate_impact_df_avg,\n",
    "    x='Year', \n",
    "    y='CO2_Emissions_MT',\n",
    "    color='Country',  # Line color by country\n",
    "    title='Average CO2 Emissions by Country Over Time',\n",
    "    labels={'CO2_Emissions_MT': 'CO2 Emissions (Mt)', 'Year': 'Year'}\n",
    ")\n",
    "\n",
    "# Add a dropdown menu to filter by country\n",
    "fig.update_layout(\n",
    "    updatemenus=[\n",
    "        {\n",
    "            'buttons': [\n",
    "                {\n",
    "                    'args': [{'visible': [country == selected_country for country in climate_impact_df_avg['Country'].unique()]}],\n",
    "                    'label': selected_country,\n",
    "                    'method': 'update'\n",
    "                }\n",
    "                for selected_country in climate_impact_df_avg['Country'].unique()\n",
    "            ],\n",
    "            'direction': 'down',\n",
    "            'showactive': True,\n",
    "            'x': 0.1,\n",
    "            'xanchor': 'left',\n",
    "            'y': 1.15,\n",
    "            'yanchor': 'top'\n",
    "        }\n",
    "    ]\n",
    ")\n",
    "\n",
    "# Show the plot\n",
    "fig.show()\n"
   ]
  },
  {
   "cell_type": "markdown",
   "metadata": {},
   "source": [
    "We can tell from a visual inspection that there is at least no obvious trend in the data. I would like to try comparing this to a more robust dataset. The Our World in Data CO2 emissions dataset (https://ourworldindata.org/co2-emissions) appears to have more data points and more detailed metadata.\n",
    "\n",
    "We can import the CSV file, create a pandas DataFrame, then use that df to create import the CSV to our database."
   ]
  },
  {
   "cell_type": "code",
   "execution_count": 49,
   "metadata": {},
   "outputs": [],
   "source": [
    "# Create a df using pandas to read the CSV\n",
    "owid_df = pd.read_csv('Resources\\owid-co2-data.csv')"
   ]
  },
  {
   "cell_type": "markdown",
   "metadata": {},
   "source": [
    "Use the pandas DataFrame to help importing the dataset into our database."
   ]
  },
  {
   "cell_type": "code",
   "execution_count": 53,
   "metadata": {},
   "outputs": [
    {
     "data": {
      "text/plain": [
       "333"
      ]
     },
     "execution_count": 53,
     "metadata": {},
     "output_type": "execute_result"
    }
   ],
   "source": [
    "# Create variables for the engine connection\n",
    "dbname = \"team6_project3_db\"\n",
    "host = \"database-1.croamw4iqxpi.us-east-2.rds.amazonaws.com\"\n",
    "port = \"5432\" \n",
    "\n",
    "# Create a connection to the database\n",
    "engine = create_engine(f'postgresql://{post_username}:{post_password}@{host}:{port}/{dbname}')\n",
    "\n",
    "# Import the DataFrame to the PostgreSQL database using the established connection\n",
    "owid_df.to_sql('owid_co2_data', engine, if_exists='append', index=False)"
   ]
  },
  {
   "cell_type": "markdown",
   "metadata": {},
   "source": [
    "The number '333' above signifies how many rows were successfully imported to the database. However the number of rows in the data is much larger (47,416). Upon inspection all the rows appear to be available in the database in pgAdmin. The number '333' may be referrring to the last chunk of data that pandas processed. `pandas.to_sql` will sometimes break large DataFrames into smaller chunks for efficiency during this process. This appears to be what happened here."
   ]
  },
  {
   "cell_type": "code",
   "execution_count": 54,
   "metadata": {},
   "outputs": [
    {
     "data": {
      "text/html": [
       "<div>\n",
       "<style scoped>\n",
       "    .dataframe tbody tr th:only-of-type {\n",
       "        vertical-align: middle;\n",
       "    }\n",
       "\n",
       "    .dataframe tbody tr th {\n",
       "        vertical-align: top;\n",
       "    }\n",
       "\n",
       "    .dataframe thead th {\n",
       "        text-align: right;\n",
       "    }\n",
       "</style>\n",
       "<table border=\"1\" class=\"dataframe\">\n",
       "  <thead>\n",
       "    <tr style=\"text-align: right;\">\n",
       "      <th></th>\n",
       "      <th>country</th>\n",
       "      <th>year</th>\n",
       "      <th>iso_code</th>\n",
       "      <th>population</th>\n",
       "      <th>gdp</th>\n",
       "      <th>cement_co2</th>\n",
       "      <th>cement_co2_per_capita</th>\n",
       "      <th>co2</th>\n",
       "      <th>co2_growth_abs</th>\n",
       "      <th>co2_growth_prct</th>\n",
       "      <th>co2_including_luc</th>\n",
       "      <th>co2_including_luc_growth_abs</th>\n",
       "      <th>co2_including_luc_growth_prct</th>\n",
       "      <th>co2_including_luc_per_capita</th>\n",
       "      <th>co2_including_luc_per_gdp</th>\n",
       "      <th>co2_including_luc_per_unit_energy</th>\n",
       "      <th>co2_per_capita</th>\n",
       "      <th>co2_per_gdp</th>\n",
       "      <th>co2_per_unit_energy</th>\n",
       "      <th>coal_co2</th>\n",
       "      <th>coal_co2_per_capita</th>\n",
       "      <th>consumption_co2</th>\n",
       "      <th>consumption_co2_per_capita</th>\n",
       "      <th>consumption_co2_per_gdp</th>\n",
       "      <th>cumulative_cement_co2</th>\n",
       "      <th>cumulative_co2</th>\n",
       "      <th>cumulative_co2_including_luc</th>\n",
       "      <th>cumulative_coal_co2</th>\n",
       "      <th>cumulative_flaring_co2</th>\n",
       "      <th>cumulative_gas_co2</th>\n",
       "      <th>cumulative_luc_co2</th>\n",
       "      <th>cumulative_oil_co2</th>\n",
       "      <th>cumulative_other_co2</th>\n",
       "      <th>energy_per_capita</th>\n",
       "      <th>energy_per_gdp</th>\n",
       "      <th>flaring_co2</th>\n",
       "      <th>flaring_co2_per_capita</th>\n",
       "      <th>gas_co2</th>\n",
       "      <th>gas_co2_per_capita</th>\n",
       "      <th>ghg_excluding_lucf_per_capita</th>\n",
       "      <th>ghg_per_capita</th>\n",
       "      <th>land_use_change_co2</th>\n",
       "      <th>land_use_change_co2_per_capita</th>\n",
       "      <th>methane</th>\n",
       "      <th>methane_per_capita</th>\n",
       "      <th>nitrous_oxide</th>\n",
       "      <th>nitrous_oxide_per_capita</th>\n",
       "      <th>oil_co2</th>\n",
       "      <th>oil_co2_per_capita</th>\n",
       "      <th>other_co2_per_capita</th>\n",
       "      <th>other_industry_co2</th>\n",
       "      <th>primary_energy_consumption</th>\n",
       "      <th>share_global_cement_co2</th>\n",
       "      <th>share_global_co2</th>\n",
       "      <th>share_global_co2_including_luc</th>\n",
       "      <th>share_global_coal_co2</th>\n",
       "      <th>share_global_cumulative_cement_co2</th>\n",
       "      <th>share_global_cumulative_co2</th>\n",
       "      <th>share_global_cumulative_co2_including_luc</th>\n",
       "      <th>share_global_cumulative_coal_co2</th>\n",
       "      <th>share_global_cumulative_flaring_co2</th>\n",
       "      <th>share_global_cumulative_gas_co2</th>\n",
       "      <th>share_global_cumulative_luc_co2</th>\n",
       "      <th>share_global_cumulative_oil_co2</th>\n",
       "      <th>share_global_cumulative_other_co2</th>\n",
       "      <th>share_global_flaring_co2</th>\n",
       "      <th>share_global_gas_co2</th>\n",
       "      <th>share_global_luc_co2</th>\n",
       "      <th>share_global_oil_co2</th>\n",
       "      <th>share_global_other_co2</th>\n",
       "      <th>share_of_temperature_change_from_ghg</th>\n",
       "      <th>temperature_change_from_ch4</th>\n",
       "      <th>temperature_change_from_co2</th>\n",
       "      <th>temperature_change_from_ghg</th>\n",
       "      <th>temperature_change_from_n2o</th>\n",
       "      <th>total_ghg</th>\n",
       "      <th>total_ghg_excluding_lucf</th>\n",
       "      <th>trade_co2</th>\n",
       "      <th>trade_co2_share</th>\n",
       "    </tr>\n",
       "  </thead>\n",
       "  <tbody>\n",
       "    <tr>\n",
       "      <th>0</th>\n",
       "      <td>Afghanistan</td>\n",
       "      <td>1850</td>\n",
       "      <td>AFG</td>\n",
       "      <td>3752993.0</td>\n",
       "      <td>NaN</td>\n",
       "      <td>NaN</td>\n",
       "      <td>NaN</td>\n",
       "      <td>NaN</td>\n",
       "      <td>NaN</td>\n",
       "      <td>NaN</td>\n",
       "      <td>NaN</td>\n",
       "      <td>NaN</td>\n",
       "      <td>NaN</td>\n",
       "      <td>NaN</td>\n",
       "      <td>NaN</td>\n",
       "      <td>NaN</td>\n",
       "      <td>NaN</td>\n",
       "      <td>NaN</td>\n",
       "      <td>NaN</td>\n",
       "      <td>NaN</td>\n",
       "      <td>NaN</td>\n",
       "      <td>NaN</td>\n",
       "      <td>NaN</td>\n",
       "      <td>NaN</td>\n",
       "      <td>NaN</td>\n",
       "      <td>NaN</td>\n",
       "      <td>NaN</td>\n",
       "      <td>NaN</td>\n",
       "      <td>NaN</td>\n",
       "      <td>NaN</td>\n",
       "      <td>2.980</td>\n",
       "      <td>NaN</td>\n",
       "      <td>NaN</td>\n",
       "      <td>NaN</td>\n",
       "      <td>NaN</td>\n",
       "      <td>NaN</td>\n",
       "      <td>NaN</td>\n",
       "      <td>NaN</td>\n",
       "      <td>NaN</td>\n",
       "      <td>NaN</td>\n",
       "      <td>NaN</td>\n",
       "      <td>2.980</td>\n",
       "      <td>0.794</td>\n",
       "      <td>NaN</td>\n",
       "      <td>NaN</td>\n",
       "      <td>NaN</td>\n",
       "      <td>NaN</td>\n",
       "      <td>NaN</td>\n",
       "      <td>NaN</td>\n",
       "      <td>NaN</td>\n",
       "      <td>NaN</td>\n",
       "      <td>NaN</td>\n",
       "      <td>NaN</td>\n",
       "      <td>NaN</td>\n",
       "      <td>NaN</td>\n",
       "      <td>NaN</td>\n",
       "      <td>NaN</td>\n",
       "      <td>NaN</td>\n",
       "      <td>NaN</td>\n",
       "      <td>NaN</td>\n",
       "      <td>NaN</td>\n",
       "      <td>NaN</td>\n",
       "      <td>0.113</td>\n",
       "      <td>NaN</td>\n",
       "      <td>NaN</td>\n",
       "      <td>NaN</td>\n",
       "      <td>NaN</td>\n",
       "      <td>0.113</td>\n",
       "      <td>NaN</td>\n",
       "      <td>NaN</td>\n",
       "      <td>NaN</td>\n",
       "      <td>NaN</td>\n",
       "      <td>NaN</td>\n",
       "      <td>NaN</td>\n",
       "      <td>NaN</td>\n",
       "      <td>NaN</td>\n",
       "      <td>NaN</td>\n",
       "      <td>NaN</td>\n",
       "      <td>NaN</td>\n",
       "    </tr>\n",
       "    <tr>\n",
       "      <th>1</th>\n",
       "      <td>Afghanistan</td>\n",
       "      <td>1851</td>\n",
       "      <td>AFG</td>\n",
       "      <td>3767956.0</td>\n",
       "      <td>NaN</td>\n",
       "      <td>NaN</td>\n",
       "      <td>NaN</td>\n",
       "      <td>NaN</td>\n",
       "      <td>NaN</td>\n",
       "      <td>NaN</td>\n",
       "      <td>NaN</td>\n",
       "      <td>NaN</td>\n",
       "      <td>NaN</td>\n",
       "      <td>NaN</td>\n",
       "      <td>NaN</td>\n",
       "      <td>NaN</td>\n",
       "      <td>NaN</td>\n",
       "      <td>NaN</td>\n",
       "      <td>NaN</td>\n",
       "      <td>NaN</td>\n",
       "      <td>NaN</td>\n",
       "      <td>NaN</td>\n",
       "      <td>NaN</td>\n",
       "      <td>NaN</td>\n",
       "      <td>NaN</td>\n",
       "      <td>NaN</td>\n",
       "      <td>NaN</td>\n",
       "      <td>NaN</td>\n",
       "      <td>NaN</td>\n",
       "      <td>NaN</td>\n",
       "      <td>5.981</td>\n",
       "      <td>NaN</td>\n",
       "      <td>NaN</td>\n",
       "      <td>NaN</td>\n",
       "      <td>NaN</td>\n",
       "      <td>NaN</td>\n",
       "      <td>NaN</td>\n",
       "      <td>NaN</td>\n",
       "      <td>NaN</td>\n",
       "      <td>NaN</td>\n",
       "      <td>NaN</td>\n",
       "      <td>3.002</td>\n",
       "      <td>0.797</td>\n",
       "      <td>NaN</td>\n",
       "      <td>NaN</td>\n",
       "      <td>NaN</td>\n",
       "      <td>NaN</td>\n",
       "      <td>NaN</td>\n",
       "      <td>NaN</td>\n",
       "      <td>NaN</td>\n",
       "      <td>NaN</td>\n",
       "      <td>NaN</td>\n",
       "      <td>NaN</td>\n",
       "      <td>NaN</td>\n",
       "      <td>NaN</td>\n",
       "      <td>NaN</td>\n",
       "      <td>NaN</td>\n",
       "      <td>NaN</td>\n",
       "      <td>NaN</td>\n",
       "      <td>NaN</td>\n",
       "      <td>NaN</td>\n",
       "      <td>NaN</td>\n",
       "      <td>0.111</td>\n",
       "      <td>NaN</td>\n",
       "      <td>NaN</td>\n",
       "      <td>NaN</td>\n",
       "      <td>NaN</td>\n",
       "      <td>0.110</td>\n",
       "      <td>NaN</td>\n",
       "      <td>NaN</td>\n",
       "      <td>0.157</td>\n",
       "      <td>0.0</td>\n",
       "      <td>0.0</td>\n",
       "      <td>0.0</td>\n",
       "      <td>0.0</td>\n",
       "      <td>NaN</td>\n",
       "      <td>NaN</td>\n",
       "      <td>NaN</td>\n",
       "      <td>NaN</td>\n",
       "    </tr>\n",
       "    <tr>\n",
       "      <th>2</th>\n",
       "      <td>Afghanistan</td>\n",
       "      <td>1852</td>\n",
       "      <td>AFG</td>\n",
       "      <td>3783940.0</td>\n",
       "      <td>NaN</td>\n",
       "      <td>NaN</td>\n",
       "      <td>NaN</td>\n",
       "      <td>NaN</td>\n",
       "      <td>NaN</td>\n",
       "      <td>NaN</td>\n",
       "      <td>NaN</td>\n",
       "      <td>NaN</td>\n",
       "      <td>NaN</td>\n",
       "      <td>NaN</td>\n",
       "      <td>NaN</td>\n",
       "      <td>NaN</td>\n",
       "      <td>NaN</td>\n",
       "      <td>NaN</td>\n",
       "      <td>NaN</td>\n",
       "      <td>NaN</td>\n",
       "      <td>NaN</td>\n",
       "      <td>NaN</td>\n",
       "      <td>NaN</td>\n",
       "      <td>NaN</td>\n",
       "      <td>NaN</td>\n",
       "      <td>NaN</td>\n",
       "      <td>NaN</td>\n",
       "      <td>NaN</td>\n",
       "      <td>NaN</td>\n",
       "      <td>NaN</td>\n",
       "      <td>9.003</td>\n",
       "      <td>NaN</td>\n",
       "      <td>NaN</td>\n",
       "      <td>NaN</td>\n",
       "      <td>NaN</td>\n",
       "      <td>NaN</td>\n",
       "      <td>NaN</td>\n",
       "      <td>NaN</td>\n",
       "      <td>NaN</td>\n",
       "      <td>NaN</td>\n",
       "      <td>NaN</td>\n",
       "      <td>3.022</td>\n",
       "      <td>0.799</td>\n",
       "      <td>NaN</td>\n",
       "      <td>NaN</td>\n",
       "      <td>NaN</td>\n",
       "      <td>NaN</td>\n",
       "      <td>NaN</td>\n",
       "      <td>NaN</td>\n",
       "      <td>NaN</td>\n",
       "      <td>NaN</td>\n",
       "      <td>NaN</td>\n",
       "      <td>NaN</td>\n",
       "      <td>NaN</td>\n",
       "      <td>NaN</td>\n",
       "      <td>NaN</td>\n",
       "      <td>NaN</td>\n",
       "      <td>NaN</td>\n",
       "      <td>NaN</td>\n",
       "      <td>NaN</td>\n",
       "      <td>NaN</td>\n",
       "      <td>NaN</td>\n",
       "      <td>0.110</td>\n",
       "      <td>NaN</td>\n",
       "      <td>NaN</td>\n",
       "      <td>NaN</td>\n",
       "      <td>NaN</td>\n",
       "      <td>0.109</td>\n",
       "      <td>NaN</td>\n",
       "      <td>NaN</td>\n",
       "      <td>0.156</td>\n",
       "      <td>0.0</td>\n",
       "      <td>0.0</td>\n",
       "      <td>0.0</td>\n",
       "      <td>0.0</td>\n",
       "      <td>NaN</td>\n",
       "      <td>NaN</td>\n",
       "      <td>NaN</td>\n",
       "      <td>NaN</td>\n",
       "    </tr>\n",
       "    <tr>\n",
       "      <th>3</th>\n",
       "      <td>Afghanistan</td>\n",
       "      <td>1853</td>\n",
       "      <td>AFG</td>\n",
       "      <td>3800954.0</td>\n",
       "      <td>NaN</td>\n",
       "      <td>NaN</td>\n",
       "      <td>NaN</td>\n",
       "      <td>NaN</td>\n",
       "      <td>NaN</td>\n",
       "      <td>NaN</td>\n",
       "      <td>NaN</td>\n",
       "      <td>NaN</td>\n",
       "      <td>NaN</td>\n",
       "      <td>NaN</td>\n",
       "      <td>NaN</td>\n",
       "      <td>NaN</td>\n",
       "      <td>NaN</td>\n",
       "      <td>NaN</td>\n",
       "      <td>NaN</td>\n",
       "      <td>NaN</td>\n",
       "      <td>NaN</td>\n",
       "      <td>NaN</td>\n",
       "      <td>NaN</td>\n",
       "      <td>NaN</td>\n",
       "      <td>NaN</td>\n",
       "      <td>NaN</td>\n",
       "      <td>NaN</td>\n",
       "      <td>NaN</td>\n",
       "      <td>NaN</td>\n",
       "      <td>NaN</td>\n",
       "      <td>12.041</td>\n",
       "      <td>NaN</td>\n",
       "      <td>NaN</td>\n",
       "      <td>NaN</td>\n",
       "      <td>NaN</td>\n",
       "      <td>NaN</td>\n",
       "      <td>NaN</td>\n",
       "      <td>NaN</td>\n",
       "      <td>NaN</td>\n",
       "      <td>NaN</td>\n",
       "      <td>NaN</td>\n",
       "      <td>3.038</td>\n",
       "      <td>0.799</td>\n",
       "      <td>NaN</td>\n",
       "      <td>NaN</td>\n",
       "      <td>NaN</td>\n",
       "      <td>NaN</td>\n",
       "      <td>NaN</td>\n",
       "      <td>NaN</td>\n",
       "      <td>NaN</td>\n",
       "      <td>NaN</td>\n",
       "      <td>NaN</td>\n",
       "      <td>NaN</td>\n",
       "      <td>NaN</td>\n",
       "      <td>NaN</td>\n",
       "      <td>NaN</td>\n",
       "      <td>NaN</td>\n",
       "      <td>NaN</td>\n",
       "      <td>NaN</td>\n",
       "      <td>NaN</td>\n",
       "      <td>NaN</td>\n",
       "      <td>NaN</td>\n",
       "      <td>0.110</td>\n",
       "      <td>NaN</td>\n",
       "      <td>NaN</td>\n",
       "      <td>NaN</td>\n",
       "      <td>NaN</td>\n",
       "      <td>0.107</td>\n",
       "      <td>NaN</td>\n",
       "      <td>NaN</td>\n",
       "      <td>0.156</td>\n",
       "      <td>0.0</td>\n",
       "      <td>0.0</td>\n",
       "      <td>0.0</td>\n",
       "      <td>0.0</td>\n",
       "      <td>NaN</td>\n",
       "      <td>NaN</td>\n",
       "      <td>NaN</td>\n",
       "      <td>NaN</td>\n",
       "    </tr>\n",
       "    <tr>\n",
       "      <th>4</th>\n",
       "      <td>Afghanistan</td>\n",
       "      <td>1854</td>\n",
       "      <td>AFG</td>\n",
       "      <td>3818038.0</td>\n",
       "      <td>NaN</td>\n",
       "      <td>NaN</td>\n",
       "      <td>NaN</td>\n",
       "      <td>NaN</td>\n",
       "      <td>NaN</td>\n",
       "      <td>NaN</td>\n",
       "      <td>NaN</td>\n",
       "      <td>NaN</td>\n",
       "      <td>NaN</td>\n",
       "      <td>NaN</td>\n",
       "      <td>NaN</td>\n",
       "      <td>NaN</td>\n",
       "      <td>NaN</td>\n",
       "      <td>NaN</td>\n",
       "      <td>NaN</td>\n",
       "      <td>NaN</td>\n",
       "      <td>NaN</td>\n",
       "      <td>NaN</td>\n",
       "      <td>NaN</td>\n",
       "      <td>NaN</td>\n",
       "      <td>NaN</td>\n",
       "      <td>NaN</td>\n",
       "      <td>NaN</td>\n",
       "      <td>NaN</td>\n",
       "      <td>NaN</td>\n",
       "      <td>NaN</td>\n",
       "      <td>15.094</td>\n",
       "      <td>NaN</td>\n",
       "      <td>NaN</td>\n",
       "      <td>NaN</td>\n",
       "      <td>NaN</td>\n",
       "      <td>NaN</td>\n",
       "      <td>NaN</td>\n",
       "      <td>NaN</td>\n",
       "      <td>NaN</td>\n",
       "      <td>NaN</td>\n",
       "      <td>NaN</td>\n",
       "      <td>3.053</td>\n",
       "      <td>0.800</td>\n",
       "      <td>NaN</td>\n",
       "      <td>NaN</td>\n",
       "      <td>NaN</td>\n",
       "      <td>NaN</td>\n",
       "      <td>NaN</td>\n",
       "      <td>NaN</td>\n",
       "      <td>NaN</td>\n",
       "      <td>NaN</td>\n",
       "      <td>NaN</td>\n",
       "      <td>NaN</td>\n",
       "      <td>NaN</td>\n",
       "      <td>NaN</td>\n",
       "      <td>NaN</td>\n",
       "      <td>NaN</td>\n",
       "      <td>NaN</td>\n",
       "      <td>NaN</td>\n",
       "      <td>NaN</td>\n",
       "      <td>NaN</td>\n",
       "      <td>NaN</td>\n",
       "      <td>0.109</td>\n",
       "      <td>NaN</td>\n",
       "      <td>NaN</td>\n",
       "      <td>NaN</td>\n",
       "      <td>NaN</td>\n",
       "      <td>0.106</td>\n",
       "      <td>NaN</td>\n",
       "      <td>NaN</td>\n",
       "      <td>0.155</td>\n",
       "      <td>0.0</td>\n",
       "      <td>0.0</td>\n",
       "      <td>0.0</td>\n",
       "      <td>0.0</td>\n",
       "      <td>NaN</td>\n",
       "      <td>NaN</td>\n",
       "      <td>NaN</td>\n",
       "      <td>NaN</td>\n",
       "    </tr>\n",
       "  </tbody>\n",
       "</table>\n",
       "</div>"
      ],
      "text/plain": [
       "       country  year iso_code  population  gdp  cement_co2  \\\n",
       "0  Afghanistan  1850      AFG   3752993.0  NaN         NaN   \n",
       "1  Afghanistan  1851      AFG   3767956.0  NaN         NaN   \n",
       "2  Afghanistan  1852      AFG   3783940.0  NaN         NaN   \n",
       "3  Afghanistan  1853      AFG   3800954.0  NaN         NaN   \n",
       "4  Afghanistan  1854      AFG   3818038.0  NaN         NaN   \n",
       "\n",
       "   cement_co2_per_capita  co2  co2_growth_abs  co2_growth_prct  \\\n",
       "0                    NaN  NaN             NaN              NaN   \n",
       "1                    NaN  NaN             NaN              NaN   \n",
       "2                    NaN  NaN             NaN              NaN   \n",
       "3                    NaN  NaN             NaN              NaN   \n",
       "4                    NaN  NaN             NaN              NaN   \n",
       "\n",
       "   co2_including_luc  co2_including_luc_growth_abs  \\\n",
       "0                NaN                           NaN   \n",
       "1                NaN                           NaN   \n",
       "2                NaN                           NaN   \n",
       "3                NaN                           NaN   \n",
       "4                NaN                           NaN   \n",
       "\n",
       "   co2_including_luc_growth_prct  co2_including_luc_per_capita  \\\n",
       "0                            NaN                           NaN   \n",
       "1                            NaN                           NaN   \n",
       "2                            NaN                           NaN   \n",
       "3                            NaN                           NaN   \n",
       "4                            NaN                           NaN   \n",
       "\n",
       "   co2_including_luc_per_gdp  co2_including_luc_per_unit_energy  \\\n",
       "0                        NaN                                NaN   \n",
       "1                        NaN                                NaN   \n",
       "2                        NaN                                NaN   \n",
       "3                        NaN                                NaN   \n",
       "4                        NaN                                NaN   \n",
       "\n",
       "   co2_per_capita  co2_per_gdp  co2_per_unit_energy  coal_co2  \\\n",
       "0             NaN          NaN                  NaN       NaN   \n",
       "1             NaN          NaN                  NaN       NaN   \n",
       "2             NaN          NaN                  NaN       NaN   \n",
       "3             NaN          NaN                  NaN       NaN   \n",
       "4             NaN          NaN                  NaN       NaN   \n",
       "\n",
       "   coal_co2_per_capita  consumption_co2  consumption_co2_per_capita  \\\n",
       "0                  NaN              NaN                         NaN   \n",
       "1                  NaN              NaN                         NaN   \n",
       "2                  NaN              NaN                         NaN   \n",
       "3                  NaN              NaN                         NaN   \n",
       "4                  NaN              NaN                         NaN   \n",
       "\n",
       "   consumption_co2_per_gdp  cumulative_cement_co2  cumulative_co2  \\\n",
       "0                      NaN                    NaN             NaN   \n",
       "1                      NaN                    NaN             NaN   \n",
       "2                      NaN                    NaN             NaN   \n",
       "3                      NaN                    NaN             NaN   \n",
       "4                      NaN                    NaN             NaN   \n",
       "\n",
       "   cumulative_co2_including_luc  cumulative_coal_co2  cumulative_flaring_co2  \\\n",
       "0                           NaN                  NaN                     NaN   \n",
       "1                           NaN                  NaN                     NaN   \n",
       "2                           NaN                  NaN                     NaN   \n",
       "3                           NaN                  NaN                     NaN   \n",
       "4                           NaN                  NaN                     NaN   \n",
       "\n",
       "   cumulative_gas_co2  cumulative_luc_co2  cumulative_oil_co2  \\\n",
       "0                 NaN               2.980                 NaN   \n",
       "1                 NaN               5.981                 NaN   \n",
       "2                 NaN               9.003                 NaN   \n",
       "3                 NaN              12.041                 NaN   \n",
       "4                 NaN              15.094                 NaN   \n",
       "\n",
       "   cumulative_other_co2  energy_per_capita  energy_per_gdp  flaring_co2  \\\n",
       "0                   NaN                NaN             NaN          NaN   \n",
       "1                   NaN                NaN             NaN          NaN   \n",
       "2                   NaN                NaN             NaN          NaN   \n",
       "3                   NaN                NaN             NaN          NaN   \n",
       "4                   NaN                NaN             NaN          NaN   \n",
       "\n",
       "   flaring_co2_per_capita  gas_co2  gas_co2_per_capita  \\\n",
       "0                     NaN      NaN                 NaN   \n",
       "1                     NaN      NaN                 NaN   \n",
       "2                     NaN      NaN                 NaN   \n",
       "3                     NaN      NaN                 NaN   \n",
       "4                     NaN      NaN                 NaN   \n",
       "\n",
       "   ghg_excluding_lucf_per_capita  ghg_per_capita  land_use_change_co2  \\\n",
       "0                            NaN             NaN                2.980   \n",
       "1                            NaN             NaN                3.002   \n",
       "2                            NaN             NaN                3.022   \n",
       "3                            NaN             NaN                3.038   \n",
       "4                            NaN             NaN                3.053   \n",
       "\n",
       "   land_use_change_co2_per_capita  methane  methane_per_capita  nitrous_oxide  \\\n",
       "0                           0.794      NaN                 NaN            NaN   \n",
       "1                           0.797      NaN                 NaN            NaN   \n",
       "2                           0.799      NaN                 NaN            NaN   \n",
       "3                           0.799      NaN                 NaN            NaN   \n",
       "4                           0.800      NaN                 NaN            NaN   \n",
       "\n",
       "   nitrous_oxide_per_capita  oil_co2  oil_co2_per_capita  \\\n",
       "0                       NaN      NaN                 NaN   \n",
       "1                       NaN      NaN                 NaN   \n",
       "2                       NaN      NaN                 NaN   \n",
       "3                       NaN      NaN                 NaN   \n",
       "4                       NaN      NaN                 NaN   \n",
       "\n",
       "   other_co2_per_capita  other_industry_co2  primary_energy_consumption  \\\n",
       "0                   NaN                 NaN                         NaN   \n",
       "1                   NaN                 NaN                         NaN   \n",
       "2                   NaN                 NaN                         NaN   \n",
       "3                   NaN                 NaN                         NaN   \n",
       "4                   NaN                 NaN                         NaN   \n",
       "\n",
       "   share_global_cement_co2  share_global_co2  share_global_co2_including_luc  \\\n",
       "0                      NaN               NaN                             NaN   \n",
       "1                      NaN               NaN                             NaN   \n",
       "2                      NaN               NaN                             NaN   \n",
       "3                      NaN               NaN                             NaN   \n",
       "4                      NaN               NaN                             NaN   \n",
       "\n",
       "   share_global_coal_co2  share_global_cumulative_cement_co2  \\\n",
       "0                    NaN                                 NaN   \n",
       "1                    NaN                                 NaN   \n",
       "2                    NaN                                 NaN   \n",
       "3                    NaN                                 NaN   \n",
       "4                    NaN                                 NaN   \n",
       "\n",
       "   share_global_cumulative_co2  share_global_cumulative_co2_including_luc  \\\n",
       "0                          NaN                                        NaN   \n",
       "1                          NaN                                        NaN   \n",
       "2                          NaN                                        NaN   \n",
       "3                          NaN                                        NaN   \n",
       "4                          NaN                                        NaN   \n",
       "\n",
       "   share_global_cumulative_coal_co2  share_global_cumulative_flaring_co2  \\\n",
       "0                               NaN                                  NaN   \n",
       "1                               NaN                                  NaN   \n",
       "2                               NaN                                  NaN   \n",
       "3                               NaN                                  NaN   \n",
       "4                               NaN                                  NaN   \n",
       "\n",
       "   share_global_cumulative_gas_co2  share_global_cumulative_luc_co2  \\\n",
       "0                              NaN                            0.113   \n",
       "1                              NaN                            0.111   \n",
       "2                              NaN                            0.110   \n",
       "3                              NaN                            0.110   \n",
       "4                              NaN                            0.109   \n",
       "\n",
       "   share_global_cumulative_oil_co2  share_global_cumulative_other_co2  \\\n",
       "0                              NaN                                NaN   \n",
       "1                              NaN                                NaN   \n",
       "2                              NaN                                NaN   \n",
       "3                              NaN                                NaN   \n",
       "4                              NaN                                NaN   \n",
       "\n",
       "   share_global_flaring_co2  share_global_gas_co2  share_global_luc_co2  \\\n",
       "0                       NaN                   NaN                 0.113   \n",
       "1                       NaN                   NaN                 0.110   \n",
       "2                       NaN                   NaN                 0.109   \n",
       "3                       NaN                   NaN                 0.107   \n",
       "4                       NaN                   NaN                 0.106   \n",
       "\n",
       "   share_global_oil_co2  share_global_other_co2  \\\n",
       "0                   NaN                     NaN   \n",
       "1                   NaN                     NaN   \n",
       "2                   NaN                     NaN   \n",
       "3                   NaN                     NaN   \n",
       "4                   NaN                     NaN   \n",
       "\n",
       "   share_of_temperature_change_from_ghg  temperature_change_from_ch4  \\\n",
       "0                                   NaN                          NaN   \n",
       "1                                 0.157                          0.0   \n",
       "2                                 0.156                          0.0   \n",
       "3                                 0.156                          0.0   \n",
       "4                                 0.155                          0.0   \n",
       "\n",
       "   temperature_change_from_co2  temperature_change_from_ghg  \\\n",
       "0                          NaN                          NaN   \n",
       "1                          0.0                          0.0   \n",
       "2                          0.0                          0.0   \n",
       "3                          0.0                          0.0   \n",
       "4                          0.0                          0.0   \n",
       "\n",
       "   temperature_change_from_n2o  total_ghg  total_ghg_excluding_lucf  \\\n",
       "0                          NaN        NaN                       NaN   \n",
       "1                          0.0        NaN                       NaN   \n",
       "2                          0.0        NaN                       NaN   \n",
       "3                          0.0        NaN                       NaN   \n",
       "4                          0.0        NaN                       NaN   \n",
       "\n",
       "   trade_co2  trade_co2_share  \n",
       "0        NaN              NaN  \n",
       "1        NaN              NaN  \n",
       "2        NaN              NaN  \n",
       "3        NaN              NaN  \n",
       "4        NaN              NaN  "
      ]
     },
     "execution_count": 54,
     "metadata": {},
     "output_type": "execute_result"
    }
   ],
   "source": [
    "# Quick view of owid_df for reference\n",
    "owid_df.head()"
   ]
  },
  {
   "cell_type": "markdown",
   "metadata": {},
   "source": [
    "Now that the data is stored in the database we can start using it. The DataFrame has many columns and many null values. For the purpose of comparing C02 emissions we're only interested in year, country, and C02 emissions columns. We can create a reduced df and try to eliminate null values."
   ]
  },
  {
   "cell_type": "code",
   "execution_count": 57,
   "metadata": {},
   "outputs": [
    {
     "data": {
      "text/html": [
       "<div>\n",
       "<style scoped>\n",
       "    .dataframe tbody tr th:only-of-type {\n",
       "        vertical-align: middle;\n",
       "    }\n",
       "\n",
       "    .dataframe tbody tr th {\n",
       "        vertical-align: top;\n",
       "    }\n",
       "\n",
       "    .dataframe thead th {\n",
       "        text-align: right;\n",
       "    }\n",
       "</style>\n",
       "<table border=\"1\" class=\"dataframe\">\n",
       "  <thead>\n",
       "    <tr style=\"text-align: right;\">\n",
       "      <th></th>\n",
       "      <th>country</th>\n",
       "      <th>year</th>\n",
       "      <th>co2</th>\n",
       "    </tr>\n",
       "  </thead>\n",
       "  <tbody>\n",
       "    <tr>\n",
       "      <th>0</th>\n",
       "      <td>Afghanistan</td>\n",
       "      <td>1850</td>\n",
       "      <td>NaN</td>\n",
       "    </tr>\n",
       "    <tr>\n",
       "      <th>1</th>\n",
       "      <td>Afghanistan</td>\n",
       "      <td>1851</td>\n",
       "      <td>NaN</td>\n",
       "    </tr>\n",
       "    <tr>\n",
       "      <th>2</th>\n",
       "      <td>Afghanistan</td>\n",
       "      <td>1852</td>\n",
       "      <td>NaN</td>\n",
       "    </tr>\n",
       "    <tr>\n",
       "      <th>3</th>\n",
       "      <td>Afghanistan</td>\n",
       "      <td>1853</td>\n",
       "      <td>NaN</td>\n",
       "    </tr>\n",
       "    <tr>\n",
       "      <th>4</th>\n",
       "      <td>Afghanistan</td>\n",
       "      <td>1854</td>\n",
       "      <td>NaN</td>\n",
       "    </tr>\n",
       "  </tbody>\n",
       "</table>\n",
       "</div>"
      ],
      "text/plain": [
       "       country  year  co2\n",
       "0  Afghanistan  1850  NaN\n",
       "1  Afghanistan  1851  NaN\n",
       "2  Afghanistan  1852  NaN\n",
       "3  Afghanistan  1853  NaN\n",
       "4  Afghanistan  1854  NaN"
      ]
     },
     "execution_count": 57,
     "metadata": {},
     "output_type": "execute_result"
    }
   ],
   "source": [
    "# Create a new df with only the relevant columns\n",
    "reduced_df = owid_df[['country', 'year', 'co2']]\n",
    "reduced_df.head()"
   ]
  },
  {
   "cell_type": "code",
   "execution_count": 67,
   "metadata": {},
   "outputs": [
    {
     "data": {
      "text/plain": [
       "array(['Afghanistan', 'Africa', 'Africa (GCP)', 'Albania', 'Algeria',\n",
       "       'Andorra', 'Angola', 'Anguilla', 'Antarctica',\n",
       "       'Antigua and Barbuda', 'Argentina', 'Armenia', 'Aruba', 'Asia',\n",
       "       'Asia (GCP)', 'Asia (excl. China and India)', 'Australia',\n",
       "       'Austria', 'Azerbaijan', 'Bahamas', 'Bahrain', 'Bangladesh',\n",
       "       'Barbados', 'Belarus', 'Belgium', 'Belize', 'Benin', 'Bermuda',\n",
       "       'Bhutan', 'Bolivia', 'Bonaire Sint Eustatius and Saba',\n",
       "       'Bosnia and Herzegovina', 'Botswana', 'Brazil',\n",
       "       'British Virgin Islands', 'Brunei', 'Bulgaria', 'Burkina Faso',\n",
       "       'Burundi', 'Cambodia', 'Cameroon', 'Canada', 'Cape Verde',\n",
       "       'Central African Republic', 'Central America (GCP)', 'Chad',\n",
       "       'Chile', 'China', 'Christmas Island', 'Colombia', 'Comoros',\n",
       "       'Congo', 'Cook Islands', 'Costa Rica', \"Cote d'Ivoire\", 'Croatia',\n",
       "       'Cuba', 'Curacao', 'Cyprus', 'Czechia',\n",
       "       'Democratic Republic of Congo', 'Denmark', 'Djibouti', 'Dominica',\n",
       "       'Dominican Republic', 'East Timor', 'Ecuador', 'Egypt',\n",
       "       'El Salvador', 'Equatorial Guinea', 'Eritrea', 'Estonia',\n",
       "       'Eswatini', 'Ethiopia', 'Europe', 'Europe (GCP)',\n",
       "       'Europe (excl. EU-27)', 'Europe (excl. EU-28)',\n",
       "       'European Union (27)', 'European Union (28)', 'Faroe Islands',\n",
       "       'Fiji', 'Finland', 'France', 'French Polynesia', 'Gabon', 'Gambia',\n",
       "       'Georgia', 'Germany', 'Ghana', 'Greece', 'Greenland', 'Grenada',\n",
       "       'Guatemala', 'Guinea', 'Guinea-Bissau', 'Guyana', 'Haiti',\n",
       "       'High-income countries', 'Honduras', 'Hong Kong', 'Hungary',\n",
       "       'Iceland', 'India', 'Indonesia', 'International aviation',\n",
       "       'International shipping', 'Iran', 'Iraq', 'Ireland', 'Israel',\n",
       "       'Italy', 'Jamaica', 'Japan', 'Jordan', 'Kazakhstan', 'Kenya',\n",
       "       'Kiribati', 'Kosovo', 'Kuwait', 'Kuwaiti Oil Fires (GCP)',\n",
       "       'Kyrgyzstan', 'Laos', 'Latvia', 'Lebanon', 'Leeward Islands (GCP)',\n",
       "       'Lesotho', 'Liberia', 'Libya', 'Liechtenstein', 'Lithuania',\n",
       "       'Low-income countries', 'Lower-middle-income countries',\n",
       "       'Luxembourg', 'Macao', 'Madagascar', 'Malawi', 'Malaysia',\n",
       "       'Maldives', 'Mali', 'Malta', 'Marshall Islands', 'Mauritania',\n",
       "       'Mauritius', 'Mexico', 'Micronesia (country)', 'Middle East (GCP)',\n",
       "       'Moldova', 'Mongolia', 'Montenegro', 'Montserrat', 'Morocco',\n",
       "       'Mozambique', 'Myanmar', 'Namibia', 'Nauru', 'Nepal',\n",
       "       'Netherlands', 'New Caledonia', 'New Zealand', 'Nicaragua',\n",
       "       'Niger', 'Nigeria', 'Niue', 'Non-OECD (GCP)', 'North America',\n",
       "       'North America (GCP)', 'North America (excl. USA)', 'North Korea',\n",
       "       'North Macedonia', 'Norway', 'OECD (GCP)', 'Oceania',\n",
       "       'Oceania (GCP)', 'Oman', 'Pakistan', 'Palau', 'Palestine',\n",
       "       'Panama', 'Panama Canal Zone (GCP)', 'Papua New Guinea',\n",
       "       'Paraguay', 'Peru', 'Philippines', 'Poland', 'Portugal', 'Qatar',\n",
       "       'Romania', 'Russia', 'Rwanda', 'Ryukyu Islands (GCP)',\n",
       "       'Saint Helena', 'Saint Kitts and Nevis', 'Saint Lucia',\n",
       "       'Saint Pierre and Miquelon', 'Saint Vincent and the Grenadines',\n",
       "       'Samoa', 'Sao Tome and Principe', 'Saudi Arabia', 'Senegal',\n",
       "       'Serbia', 'Seychelles', 'Sierra Leone', 'Singapore',\n",
       "       'Sint Maarten (Dutch part)', 'Slovakia', 'Slovenia',\n",
       "       'Solomon Islands', 'Somalia', 'South Africa', 'South America',\n",
       "       'South America (GCP)', 'South Korea', 'South Sudan', 'Spain',\n",
       "       'Sri Lanka', 'St. Kitts-Nevis-Anguilla (GCP)', 'Sudan', 'Suriname',\n",
       "       'Sweden', 'Switzerland', 'Syria', 'Taiwan', 'Tajikistan',\n",
       "       'Tanzania', 'Thailand', 'Togo', 'Tonga', 'Trinidad and Tobago',\n",
       "       'Tunisia', 'Turkey', 'Turkmenistan', 'Turks and Caicos Islands',\n",
       "       'Tuvalu', 'Uganda', 'Ukraine', 'United Arab Emirates',\n",
       "       'United Kingdom', 'United States', 'Upper-middle-income countries',\n",
       "       'Uruguay', 'Uzbekistan', 'Vanuatu', 'Venezuela', 'Vietnam',\n",
       "       'Wallis and Futuna', 'World', 'Yemen', 'Zambia', 'Zimbabwe'],\n",
       "      dtype=object)"
      ]
     },
     "execution_count": 67,
     "metadata": {},
     "output_type": "execute_result"
    }
   ],
   "source": [
    "# There are a lot of NaN values, I could try to eliminate those\n",
    "reduced_df = reduced_df.dropna(subset=['co2'])\n",
    "\n",
    "reduced_df['country'].unique()"
   ]
  }
 ],
 "metadata": {
  "kernelspec": {
   "display_name": "dev",
   "language": "python",
   "name": "python3"
  },
  "language_info": {
   "codemirror_mode": {
    "name": "ipython",
    "version": 3
   },
   "file_extension": ".py",
   "mimetype": "text/x-python",
   "name": "python",
   "nbconvert_exporter": "python",
   "pygments_lexer": "ipython3",
   "version": "3.10.14"
  }
 },
 "nbformat": 4,
 "nbformat_minor": 2
}
